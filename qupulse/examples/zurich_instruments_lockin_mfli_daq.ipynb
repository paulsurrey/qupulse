{
 "cells": [
  {
   "cell_type": "markdown",
   "id": "14133f44",
   "metadata": {},
   "source": [
    "# Zurich Instruments Lock-In MFLI Data Aquesition"
   ]
  },
  {
   "cell_type": "code",
   "execution_count": 1,
   "id": "0a0fdc55",
   "metadata": {},
   "outputs": [],
   "source": [
    "%load_ext autoreload\n",
    "%autoreload 2"
   ]
  },
  {
   "cell_type": "code",
   "execution_count": 2,
   "id": "5a98e00c",
   "metadata": {},
   "outputs": [],
   "source": [
    "import numpy as np"
   ]
  },
  {
   "cell_type": "code",
   "execution_count": 25,
   "id": "03a8c5ae",
   "metadata": {},
   "outputs": [],
   "source": [
    "import matplotlib.pyplot as plt"
   ]
  },
  {
   "cell_type": "code",
   "execution_count": 3,
   "id": "575d35da",
   "metadata": {},
   "outputs": [],
   "source": [
    "from zhinst import ziPython as zhinst_core"
   ]
  },
  {
   "cell_type": "code",
   "execution_count": 13,
   "id": "84863030",
   "metadata": {},
   "outputs": [],
   "source": [
    "import qupulse"
   ]
  },
  {
   "cell_type": "code",
   "execution_count": 4,
   "id": "5e020984",
   "metadata": {},
   "outputs": [
    {
     "name": "stderr",
     "output_type": "stream",
     "text": [
      "z:\\git\\qupulse\\qupulse\\hardware\\awgs\\tektronix.py:13: UserWarning: Could not import Tektronix driver backend. If you wish to use it execute qupulse.hardware.awgs.install_requirements('tektronix')\n",
      "  warnings.warn(\"Could not import Tektronix driver backend. \"\n"
     ]
    }
   ],
   "source": [
    "from qupulse.hardware.dacs.mfli import MFLIDAQ"
   ]
  },
  {
   "cell_type": "code",
   "execution_count": 5,
   "id": "33a97342",
   "metadata": {},
   "outputs": [],
   "source": [
    "my_lockin = MFLIDAQ(device_serial=\"dev3442\", device_interface=\"PCIe\", data_server_addr=\"192.168.53.202\")"
   ]
  },
  {
   "cell_type": "code",
   "execution_count": 9,
   "id": "6681f625",
   "metadata": {},
   "outputs": [],
   "source": [
    "my_lockin.register_measurement_channel(program_name=\"test\", channel_path=[\"demods/0/sample.R\", \"auxins/0/sample.AuxIn0.avg\", \"demods/0/sample.X\", \"demods/0/sample.Y\"])"
   ]
  },
  {
   "cell_type": "code",
   "execution_count": 10,
   "id": "bc1e47cb",
   "metadata": {},
   "outputs": [],
   "source": [
    "my_lockin.register_measurement_windows(program_name=\"test\", windows={\"a\": (np.array([0, 3])*1, np.array([1, 10])*1),\"b\": (np.array([0, 2, 4])*1e-3, np.array([1, 4, 6.1])*1e-3)})"
   ]
  },
  {
   "cell_type": "code",
   "execution_count": 11,
   "id": "160c071b",
   "metadata": {},
   "outputs": [
    {
     "data": {
      "text/plain": [
       "{'test': {'channels': ['demods/0/sample.R',\n",
       "   'auxins/0/sample.AuxIn0.avg',\n",
       "   'demods/0/sample.X',\n",
       "   'demods/0/sample.Y'],\n",
       "  'windows': {'a': (array([0, 3]), array([ 1, 10])),\n",
       "   'b': (array([0.   , 0.002, 0.004]), array([0.001 , 0.004 , 0.0061]))},\n",
       "  'masks': {'a': array([[[    0.,    nan,     0.,     0.],\n",
       "           [ 5022.,    nan,  5022.,  5022.]],\n",
       "   \n",
       "          [[ 1674.,    nan,  1674.,  1674.],\n",
       "           [16741.,    nan, 16741., 16741.]],\n",
       "   \n",
       "          [[ 1674.,    nan,  1674.,  1674.],\n",
       "           [21763.,    nan, 21763., 21763.]]]),\n",
       "   'b': array([[[ 0., nan,  0.,  0.],\n",
       "           [ 3., nan,  3.,  3.],\n",
       "           [ 7., nan,  7.,  7.]],\n",
       "   \n",
       "          [[ 1., nan,  1.,  1.],\n",
       "           [ 6., nan,  6.,  6.],\n",
       "           [10., nan, 10., 10.]],\n",
       "   \n",
       "          [[ 1., nan,  1.,  1.],\n",
       "           [ 9., nan,  9.,  9.],\n",
       "           [17., nan, 17., 17.]]])}}}"
      ]
     },
     "execution_count": 11,
     "metadata": {},
     "output_type": "execute_result"
    }
   ],
   "source": [
    "my_lockin.programs"
   ]
  },
  {
   "cell_type": "code",
   "execution_count": null,
   "id": "83995f77",
   "metadata": {},
   "outputs": [],
   "source": []
  },
  {
   "cell_type": "code",
   "execution_count": null,
   "id": "e6e33177",
   "metadata": {},
   "outputs": [],
   "source": []
  },
  {
   "cell_type": "markdown",
   "id": "333ce31c",
   "metadata": {},
   "source": [
    "## Defining a simple qupulse pulse with a measurement window."
   ]
  },
  {
   "cell_type": "code",
   "execution_count": 111,
   "id": "906d5c5a",
   "metadata": {},
   "outputs": [],
   "source": [
    "from qupulse.pulses.plotting import plot"
   ]
  },
  {
   "cell_type": "code",
   "execution_count": 21,
   "id": "4b0cc17e",
   "metadata": {},
   "outputs": [],
   "source": [
    "red_pulse = qupulse.pulses.TablePT({\"red\": [\n",
    "    (0, 0),\n",
    "    (1, 4, 'hold'),\n",
    "    (4, .5, 'linear'),\n",
    "    (5, 2, 'hold'),\n",
    "    (6, .5, 'hold'),\n",
    "    (15, .5, 'jump'),\n",
    "]})"
   ]
  },
  {
   "cell_type": "code",
   "execution_count": 52,
   "id": "ab4a8768",
   "metadata": {},
   "outputs": [],
   "source": [
    "green_pulse = qupulse.pulses.SequencePT(*[\n",
    "    qupulse.pulses.FunctionPT(\".1\", \"6\", channel=\"green\"),\n",
    "    qupulse.pulses.FunctionPT(\".1+t**2*.9\", \"1\", channel=\"green\"),\n",
    "    qupulse.pulses.FunctionPT(\"1\", \"1\", channel=\"green\"),\n",
    "    qupulse.pulses.FunctionPT(\"1+sin(t*2*pi)*exp(-(t-2)**2)\", \"5\", channel=\"green\"),\n",
    "    qupulse.pulses.FunctionPT(\"1\", \"1\", channel=\"green\"),\n",
    "    qupulse.pulses.FunctionPT(\"0\", \"1\", channel=\"green\"),\n",
    "]\n",
    ")"
   ]
  },
  {
   "cell_type": "code",
   "execution_count": 137,
   "id": "4268b9d4",
   "metadata": {},
   "outputs": [],
   "source": [
    "measured_pt = qupulse.pulses.PointPT([(0, 0), (0, 1), (15, 1), (15, 0)],\n",
    "                      channel_names=(\"trigger_out\",),\n",
    "                      measurements=[('A', 3, 1.5), ('A', 12, 3), ('R', 6.5, 1.4), ('R', 14, 1), ('T', 10, 3)])"
   ]
  },
  {
   "cell_type": "code",
   "execution_count": 138,
   "id": "f082459a",
   "metadata": {},
   "outputs": [
    {
     "name": "stderr",
     "output_type": "stream",
     "text": [
      "z:\\git\\qupulse\\qupulse\\pulses\\arithmetic_pulse_template.py:72: ImplicitAtomicityInArithmeticPT: ArithmeticAtomicPulseTemplate treats all operands as if they are atomic. You can silence this warning by passing `silent_atomic=True` or by ignoring this category.\n",
      "  category=ImplicitAtomicityInArithmeticPT)\n"
     ]
    }
   ],
   "source": [
    "combined_pulse = red_pulse+green_pulse+measured_pt"
   ]
  },
  {
   "cell_type": "code",
   "execution_count": 139,
   "id": "e0600a11",
   "metadata": {},
   "outputs": [
    {
     "name": "stdout",
     "output_type": "stream",
     "text": [
      "{'T', 'R', 'A'}\n",
      "[]\n",
      "set()\n"
     ]
    }
   ],
   "source": [
    "print(combined_pulse.measurement_names)\n",
    "print(combined_pulse.measurement_declarations)\n",
    "print(combined_pulse.measurement_parameters)"
   ]
  },
  {
   "cell_type": "code",
   "execution_count": 140,
   "id": "bb0530ec",
   "metadata": {},
   "outputs": [
    {
     "data": {
      "text/plain": [
       "<bound method ArithmeticAtomicPulseTemplate.get_measurement_windows of ((TablePulseTemplate(entries={'red': [(0, 0, 'hold'), (1, 4, 'hold'), (4, 0.5, 'linear'), (5, 2, 'hold'), (6, 0.5, 'hold'), (15, 0.5, 'jump')]},parameter_constraints=[],measurements=[]) '+' SequencePulseTemplate(subtemplates=[FunctionPulseTemplate(duration_expression=ExpressionScalar('6'),expression=ExpressionScalar('.1'),channel='green',measurements=[],parameter_constraints=[]), FunctionPulseTemplate(duration_expression=ExpressionScalar('1'),expression=ExpressionScalar('.1+t**2*.9'),channel='green',measurements=[],parameter_constraints=[]), FunctionPulseTemplate(duration_expression=ExpressionScalar('1'),expression=ExpressionScalar('1'),channel='green',measurements=[],parameter_constraints=[]), FunctionPulseTemplate(duration_expression=ExpressionScalar('5'),expression=ExpressionScalar('1+sin(t*2*pi)*exp(-(t-2)**2)'),channel='green',measurements=[],parameter_constraints=[]), FunctionPulseTemplate(duration_expression=ExpressionScalar('1'),expression=ExpressionScalar('1'),channel='green',measurements=[],parameter_constraints=[]), FunctionPulseTemplate(duration_expression=ExpressionScalar('1'),expression=ExpressionScalar('0'),channel='green',measurements=[],parameter_constraints=[])])) '+' PointPulseTemplate(time_point_tuple_list=[(0, 0, 'hold'), (0, 1, 'hold'), (15, 1, 'hold'), (15, 0, 'hold')],channel_names=('trigger_out',),measurements=[('A', 3, 1.5), ('A', 12, 3), ('R', 6.5, 1.4), ('R', 14, 1), ('T', 10, 3)]))>"
      ]
     },
     "execution_count": 140,
     "metadata": {},
     "output_type": "execute_result"
    }
   ],
   "source": [
    "combined_pulse.get_measurement_windows"
   ]
  },
  {
   "cell_type": "code",
   "execution_count": 142,
   "id": "3c713b54",
   "metadata": {},
   "outputs": [
    {
     "data": {
      "image/png": "[encoded data removed]",
      "text/plain": [
       "<Figure size 432x288 with 1 Axes>"
      ]
     },
     "metadata": {
      "needs_background": "light"
     },
     "output_type": "display_data"
    }
   ],
   "source": [
    "plot(combined_pulse, sample_rate=300, plot_measurements=combined_pulse.measurement_names) # combined_pulse.measurement_names\n",
    "plt.show()"
   ]
  },
  {
   "cell_type": "code",
   "execution_count": 143,
   "id": "454dab56",
   "metadata": {},
   "outputs": [],
   "source": [
    "idle_pulse = qupulse.pulses.TablePT({\"red\": [\n",
    "    (0, 0),\n",
    "    (5, 0),\n",
    "],\n",
    "                                     \"green\": [\n",
    "    (0, 0),\n",
    "    (5, 0),\n",
    "],\n",
    "                                     \"trigger_out\": [\n",
    "    (0, 0),\n",
    "    (5, 0),\n",
    "]})"
   ]
  },
  {
   "cell_type": "code",
   "execution_count": 144,
   "id": "8332701f",
   "metadata": {},
   "outputs": [],
   "source": [
    "rep = qupulse.pulses.repetition_pulse_template.RepetitionPulseTemplate(\n",
    "    body=qupulse.pulses.SequencePT(combined_pulse, idle_pulse),\n",
    "    repetition_count=10\n",
    ")"
   ]
  },
  {
   "cell_type": "code",
   "execution_count": 145,
   "id": "1c891151",
   "metadata": {},
   "outputs": [
    {
     "data": {
      "image/png": "[encoded data removed]",
      "text/plain": [
       "<Figure size 432x288 with 1 Axes>"
      ]
     },
     "metadata": {
      "needs_background": "light"
     },
     "output_type": "display_data"
    }
   ],
   "source": [
    "plot(rep, sample_rate=300, plot_measurements=combined_pulse.measurement_names)\n",
    "plt.show()"
   ]
  },
  {
   "cell_type": "code",
   "execution_count": null,
   "id": "69244a9c",
   "metadata": {},
   "outputs": [],
   "source": []
  },
  {
   "cell_type": "markdown",
   "id": "ada25926",
   "metadata": {},
   "source": [
    "## Execution\n",
    "\n",
    "1. map output channels to dummy instrument\n",
    "2. arm scan and see if everything works"
   ]
  },
  {
   "cell_type": "code",
   "execution_count": 146,
   "id": "4ef8f47f",
   "metadata": {},
   "outputs": [],
   "source": [
    "from qupulse.hardware.setup import HardwareSetup, MeasurementMask"
   ]
  },
  {
   "cell_type": "code",
   "execution_count": 150,
   "id": "4d6b9acc",
   "metadata": {},
   "outputs": [],
   "source": [
    "setup = HardwareSetup()"
   ]
  },
  {
   "cell_type": "code",
   "execution_count": 151,
   "id": "a4731c70",
   "metadata": {},
   "outputs": [],
   "source": [
    "for n in [\"R\", \"T\", \"A\"]:\n",
    "    setup.set_measurement(f\"{n}_lockin\", MeasurementMask(my_lockin, n))"
   ]
  },
  {
   "cell_type": "code",
   "execution_count": 156,
   "id": "c885518e",
   "metadata": {},
   "outputs": [],
   "source": [
    "# for c in [\"red\", \"green\", \"trigger_out\"]:\n",
    "#     setup.set_channel(f\"{n}\", None)"
   ]
  },
  {
   "cell_type": "code",
   "execution_count": 158,
   "id": "a8ae5cdf",
   "metadata": {},
   "outputs": [],
   "source": [
    "test_program = combined_pulse.create_program(parameters={})"
   ]
  },
  {
   "cell_type": "code",
   "execution_count": 159,
   "id": "6a404a7a",
   "metadata": {},
   "outputs": [
    {
     "ename": "KeyError",
     "evalue": "\"The following channels are unknown to the HardwareSetup: {'green', 'trigger_out', 'red'}\"",
     "output_type": "error",
     "traceback": [
      "\u001b[1;31m---------------------------------------------------------------------------\u001b[0m",
      "\u001b[1;31mKeyError\u001b[0m                                  Traceback (most recent call last)",
      "\u001b[1;32m~\\AppData\\Local\\Temp\\ipykernel_14832\\3018318824.py\u001b[0m in \u001b[0;36m<module>\u001b[1;34m\u001b[0m\n\u001b[1;32m----> 1\u001b[1;33m \u001b[0msetup\u001b[0m\u001b[1;33m.\u001b[0m\u001b[0mregister_program\u001b[0m\u001b[1;33m(\u001b[0m\u001b[1;34m'puls_test'\u001b[0m\u001b[1;33m,\u001b[0m \u001b[0mtest_program\u001b[0m\u001b[1;33m,\u001b[0m \u001b[0mrun_callback\u001b[0m\u001b[1;33m=\u001b[0m\u001b[1;32mlambda\u001b[0m \u001b[1;33m*\u001b[0m\u001b[0ma\u001b[0m\u001b[1;33m,\u001b[0m \u001b[1;33m**\u001b[0m\u001b[0mb\u001b[0m\u001b[1;33m:\u001b[0m \u001b[1;32mNone\u001b[0m\u001b[1;33m,\u001b[0m \u001b[0mupdate\u001b[0m\u001b[1;33m=\u001b[0m\u001b[1;32mTrue\u001b[0m\u001b[1;33m)\u001b[0m\u001b[1;33m\u001b[0m\u001b[1;33m\u001b[0m\u001b[0m\n\u001b[0m",
      "\u001b[1;32mz:\\git\\qupulse\\qupulse\\hardware\\setup.py\u001b[0m in \u001b[0;36mregister_program\u001b[1;34m(self, name, program, run_callback, update)\u001b[0m\n\u001b[0;32m    100\u001b[0m         \u001b[1;32mif\u001b[0m \u001b[0mchannels\u001b[0m \u001b[1;33m-\u001b[0m \u001b[0mset\u001b[0m\u001b[1;33m(\u001b[0m\u001b[0mself\u001b[0m\u001b[1;33m.\u001b[0m\u001b[0m_channel_map\u001b[0m\u001b[1;33m.\u001b[0m\u001b[0mkeys\u001b[0m\u001b[1;33m(\u001b[0m\u001b[1;33m)\u001b[0m\u001b[1;33m)\u001b[0m\u001b[1;33m:\u001b[0m\u001b[1;33m\u001b[0m\u001b[1;33m\u001b[0m\u001b[0m\n\u001b[0;32m    101\u001b[0m             raise KeyError('The following channels are unknown to the HardwareSetup: {}'.format(\n\u001b[1;32m--> 102\u001b[1;33m                 channels - set(self._channel_map.keys())))\n\u001b[0m\u001b[0;32m    103\u001b[0m \u001b[1;33m\u001b[0m\u001b[0m\n\u001b[0;32m    104\u001b[0m         \u001b[0mtemp_measurement_windows\u001b[0m \u001b[1;33m=\u001b[0m \u001b[0mdefaultdict\u001b[0m\u001b[1;33m(\u001b[0m\u001b[0mlist\u001b[0m\u001b[1;33m)\u001b[0m\u001b[1;33m\u001b[0m\u001b[1;33m\u001b[0m\u001b[0m\n",
      "\u001b[1;31mKeyError\u001b[0m: \"The following channels are unknown to the HardwareSetup: {'green', 'trigger_out', 'red'}\""
     ]
    }
   ],
   "source": [
    "setup.register_program('puls_test', test_program, run_callback=lambda *a, **b: None, update=True)"
   ]
  },
  {
   "cell_type": "code",
   "execution_count": 152,
   "id": "6b0dfe3c",
   "metadata": {},
   "outputs": [
    {
     "data": {
      "text/plain": [
       "{<qupulse.hardware.dacs.mfli.MFLIDAQ at 0x1f520a75688>}"
      ]
     },
     "execution_count": 152,
     "metadata": {},
     "output_type": "execute_result"
    }
   ],
   "source": [
    "setup.run_program()"
   ]
  },
  {
   "cell_type": "code",
   "execution_count": null,
   "id": "986388ed",
   "metadata": {},
   "outputs": [],
   "source": []
  },
  {
   "cell_type": "code",
   "execution_count": null,
   "id": "a06c534e",
   "metadata": {},
   "outputs": [],
   "source": []
  },
  {
   "cell_type": "code",
   "execution_count": null,
   "id": "c8c9523b",
   "metadata": {},
   "outputs": [],
   "source": []
  },
  {
   "cell_type": "code",
   "execution_count": null,
   "id": "baddb8d5",
   "metadata": {},
   "outputs": [],
   "source": []
  },
  {
   "cell_type": "code",
   "execution_count": null,
   "id": "e551db46",
   "metadata": {},
   "outputs": [],
   "source": []
  },
  {
   "cell_type": "code",
   "execution_count": null,
   "id": "86907e32",
   "metadata": {},
   "outputs": [],
   "source": []
  }
 ],
 "metadata": {
  "kernelspec": {
   "display_name": "Python 3 (ipykernel)",
   "language": "python",
   "name": "python3"
  },
  "language_info": {
   "codemirror_mode": {
    "name": "ipython",
    "version": 3
   },
   "file_extension": ".py",
   "mimetype": "text/x-python",
   "name": "python",
   "nbconvert_exporter": "python",
   "pygments_lexer": "ipython3",
   "version": "3.7.11"
  }
 },
 "nbformat": 4,
 "nbformat_minor": 5
}
