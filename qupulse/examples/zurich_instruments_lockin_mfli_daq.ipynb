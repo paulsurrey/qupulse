{
 "cells": [
  {
   "cell_type": "markdown",
   "id": "6b0bdb5f",
   "metadata": {},
   "source": [
    "# Zurich Instruments Lock-In MFLI Data Acquisition"
   ]
  },
  {
   "cell_type": "markdown",
   "id": "d11c4c6c",
   "metadata": {},
   "source": [
    "This notebook was used to develop the qupulse MFLI driver and is now intended as a documentation with examples."
   ]
  },
  {
   "cell_type": "code",
   "execution_count": 1,
   "id": "37894582",
   "metadata": {},
   "outputs": [],
   "source": [
    "# this function let's jupyter/ipython reload changes made in the source code automatically.\n",
    "%load_ext autoreload\n",
    "%autoreload 2"
   ]
  },
  {
   "cell_type": "code",
   "execution_count": 2,
   "id": "debe96ac",
   "metadata": {},
   "outputs": [],
   "source": [
    "import numpy as np"
   ]
  },
  {
   "cell_type": "code",
   "execution_count": 3,
   "id": "c0050171",
   "metadata": {},
   "outputs": [],
   "source": [
    "import time"
   ]
  },
  {
   "cell_type": "code",
   "execution_count": 4,
   "id": "f8975a27",
   "metadata": {},
   "outputs": [],
   "source": [
    "import matplotlib.pyplot as plt"
   ]
  },
  {
   "cell_type": "code",
   "execution_count": 5,
   "id": "76ba4dc7",
   "metadata": {},
   "outputs": [],
   "source": [
    "import qupulse"
   ]
  },
  {
   "cell_type": "code",
   "execution_count": 6,
   "id": "65986db0",
   "metadata": {},
   "outputs": [],
   "source": [
    "from qupulse.hardware.dacs.mfli import MFLIDAQ, postprocessing_crop_windows, postprocessing_average_within_windows"
   ]
  },
  {
   "cell_type": "code",
   "execution_count": 7,
   "id": "5a7826ef",
   "metadata": {},
   "outputs": [],
   "source": [
    "import zhinst.ziPython as zi"
   ]
  },
  {
   "cell_type": "code",
   "execution_count": 8,
   "id": "42af2895",
   "metadata": {
    "scrolled": true
   },
   "outputs": [],
   "source": [
    "my_lockin = MFLIDAQ.connect_to(device_serial=\"dev4797\")"
   ]
  },
  {
   "cell_type": "code",
   "execution_count": null,
   "id": "a9fe5e61",
   "metadata": {},
   "outputs": [],
   "source": []
  },
  {
   "cell_type": "markdown",
   "id": "4e5e5266",
   "metadata": {},
   "source": [
    "With ```my_lockin.api_session``` the the zhinst API session for that driver instance is addressed. In the following cell, this is done to set the debug log level to the lowest level, logging everything. Thing will then be logged into the terminal where the jupyter notebook is running and into some file, whose path is stated in the terminal after calling the command. "
   ]
  },
  {
   "cell_type": "code",
   "execution_count": 9,
   "id": "a2599d33",
   "metadata": {},
   "outputs": [],
   "source": [
    "my_lockin.api_session.setDebugLevel(0)"
   ]
  },
  {
   "cell_type": "markdown",
   "id": "6724c4a8",
   "metadata": {},
   "source": [
    "And the sample rate and aux outputs are configured"
   ]
  },
  {
   "cell_type": "code",
   "execution_count": 10,
   "id": "faaf68cc",
   "metadata": {},
   "outputs": [],
   "source": [
    "my_lockin.api_session.setDouble(f'/{my_lockin.serial}/demods/0/rate', 10000)"
   ]
  },
  {
   "cell_type": "code",
   "execution_count": 11,
   "id": "3b311267",
   "metadata": {},
   "outputs": [],
   "source": [
    "for i in range(4):\n",
    "    my_lockin.api_session.setInt(f'/{my_lockin.serial}/auxouts/{i}/outputselect', -1)\n",
    "    my_lockin.api_session.setDouble(f\"/{my_lockin.serial}/auxouts/{i}/offset\", 0)"
   ]
  },
  {
   "cell_type": "markdown",
   "id": "41396548",
   "metadata": {},
   "source": [
    "In the following, we will set the default settings of the device. It is recommended to also set all the other important settings here. E.g. the reference oscillator frequency and amplitude."
   ]
  },
  {
   "cell_type": "markdown",
   "id": "6e9a76ba",
   "metadata": {},
   "source": [
    "If the API does not allow for querying a sample rate for a certain gate, then ether the ```assumed_minimal_sample_rate``` is used (if not None) or the first demodulator is activated. This is done to have some sample rate to set the number of samples to record for certain measurement. The measurements define the regions to measure in units of nano seconds."
   ]
  },
  {
   "cell_type": "code",
   "execution_count": 12,
   "id": "016ae5ee",
   "metadata": {},
   "outputs": [],
   "source": [
    "my_lockin.assumed_minimal_sample_rate = 1.\n",
    "my_lockin.assumed_minimal_sample_rate = None"
   ]
  },
  {
   "cell_type": "markdown",
   "id": "3d273882",
   "metadata": {},
   "source": [
    "qupulse allows for defining multiple measurement windows for one measurement. The windows are identified by their name, a string. To set which channels to record in which window, the following dict is created. There the key defines the string for the window and the list for that key defined the paths that are to be measured. Internally the device name is added in front. One can measure multiple channels in one window."
   ]
  },
  {
   "cell_type": "code",
   "execution_count": 13,
   "id": "264cb7fa",
   "metadata": {},
   "outputs": [],
   "source": [
    "my_lockin_channels = {\n",
    "    \"R\": [\"demods/0/sample.R\"],\n",
    "    \"X\": [\"demods/0/sample.X\"],\n",
    "    \"Y\": [\"demods/0/sample.Y\"],\n",
    "    \"A\": [\"auxins/0/sample.AuxIn0.avg\"],\n",
    "    \"many\": [\"demods/0/sample.R\", \"auxins/0/sample.AuxIn0.avg\", \"demods/0/sample.X\", \"demods/0/sample.Y\"]\n",
    "}"
   ]
  },
  {
   "cell_type": "markdown",
   "id": "a12e287d",
   "metadata": {},
   "source": [
    "When registering these windows, one can give a program name under which these windows are saved. If this name is None, then they are used as a default. When then a other program is called which asks for a measurement window which has not been registered with that program name, then the default settings are used for that window."
   ]
  },
  {
   "cell_type": "code",
   "execution_count": 14,
   "id": "bb0ef71a",
   "metadata": {},
   "outputs": [],
   "source": [
    "for k, v in my_lockin_channels.items():\n",
    "    my_lockin.register_measurement_channel(program_name=None, channel_path=v, window_name=k)"
   ]
  },
  {
   "cell_type": "markdown",
   "id": "e684b4f8",
   "metadata": {},
   "source": [
    "Here are the currently saved information for the default program ```my_lockin.default_program```"
   ]
  },
  {
   "cell_type": "code",
   "execution_count": 15,
   "id": "460a60f0",
   "metadata": {},
   "outputs": [
    {
     "data": {
      "text/plain": [
       "MFLIProgram(default_channels=None, channel_mapping={'R': {'demods/0/sample.R'}, 'X': {'demods/0/sample.X'}, 'Y': {'demods/0/sample.Y'}, 'A': {'auxins/0/sample.AuxIn0.avg'}, 'many': {'demods/0/sample.Y', 'demods/0/sample.R', 'demods/0/sample.X', 'auxins/0/sample.AuxIn0.avg'}}, windows=None, trigger_settings=None, other_settings={}, operations=None)"
      ]
     },
     "execution_count": 15,
     "metadata": {},
     "output_type": "execute_result"
    }
   ],
   "source": [
    "my_lockin.default_program"
   ]
  },
  {
   "cell_type": "markdown",
   "id": "732bb4a2",
   "metadata": {},
   "source": [
    "Now measurement windows are defined. This is usually done by qupulse when registering a program. But one can also to this by hand.\n",
    "\n",
    "The windows define for which period, after the beginning of the pulse, some data is to be returned. The windows are defined by a tuple of two lists, where the first gives the point after the pulse started of when the measurement should start in ns. The second give the duration of this window in ns. One can specify multiple regions for one window by adding multiple entries into these lists. (Here the naming might not be consistent enough. Occasionally the word *mask* is used.)\n",
    "\n",
    "It is noteworthy that, in the current qupulse implementation, the point in them when a trigger signal is send to the measurement device has the managed by the user and is not checked to be at the correct point in time. So per default this signal is expected to be send out at the beginning of the pulse, and then the measurement equipment will measure the cover all windows (the duration is extracted from the defined windows.). But one can play tricks with that. But one needs to be careful. "
   ]
  },
  {
   "cell_type": "code",
   "execution_count": 16,
   "id": "bc46a01c",
   "metadata": {},
   "outputs": [],
   "source": [
    "my_lockin.register_measurement_windows(program_name=\"test\", windows={\n",
    "        \"A\": (np.array([0, 3])*1, np.array([1, 10])*1), \n",
    "        \"many\": (np.array([0, 2, 4])*1e-3, np.array([1, 4, 6.1])*1e-3)\n",
    "    })"
   ]
  },
  {
   "cell_type": "code",
   "execution_count": 17,
   "id": "f45534ef",
   "metadata": {
    "scrolled": true
   },
   "outputs": [
    {
     "data": {
      "text/plain": [
       "{'test': MFLIProgram(default_channels=None, channel_mapping=None, windows={'A': (array([0, 3]), array([ 1, 10])), 'many': (array([0.   , 0.002, 0.004]), array([0.001 , 0.004 , 0.0061]))}, trigger_settings=None, other_settings={}, operations=None)}"
      ]
     },
     "execution_count": 17,
     "metadata": {},
     "output_type": "execute_result"
    }
   ],
   "source": [
    "my_lockin.programs"
   ]
  },
  {
   "cell_type": "markdown",
   "id": "9a22699a",
   "metadata": {},
   "source": [
    "Ok, now that we have registered a program, we can delete it."
   ]
  },
  {
   "cell_type": "code",
   "execution_count": 18,
   "id": "eb3c0a0e",
   "metadata": {},
   "outputs": [],
   "source": [
    "my_lockin.delete_program(program_name=\"test\")"
   ]
  },
  {
   "cell_type": "code",
   "execution_count": 19,
   "id": "60fe5854",
   "metadata": {},
   "outputs": [
    {
     "data": {
      "text/plain": [
       "{}"
      ]
     },
     "execution_count": 19,
     "metadata": {},
     "output_type": "execute_result"
    }
   ],
   "source": [
    "my_lockin.programs"
   ]
  },
  {
   "cell_type": "code",
   "execution_count": 20,
   "id": "3b91d286",
   "metadata": {},
   "outputs": [
    {
     "data": {
      "text/plain": [
       "MFLIProgram(default_channels=None, channel_mapping={'R': {'demods/0/sample.R'}, 'X': {'demods/0/sample.X'}, 'Y': {'demods/0/sample.Y'}, 'A': {'auxins/0/sample.AuxIn0.avg'}, 'many': {'demods/0/sample.Y', 'demods/0/sample.R', 'demods/0/sample.X', 'auxins/0/sample.AuxIn0.avg'}}, windows=None, trigger_settings=None, other_settings={}, operations=None)"
      ]
     },
     "execution_count": 20,
     "metadata": {},
     "output_type": "execute_result"
    }
   ],
   "source": [
    "my_lockin.default_program"
   ]
  },
  {
   "cell_type": "markdown",
   "id": "303053e3",
   "metadata": {},
   "source": [
    "## Defining a simple qupulse pulse with a measurement window."
   ]
  },
  {
   "cell_type": "markdown",
   "id": "a3bc5453",
   "metadata": {},
   "source": [
    "Now we will define a simple pulse.\n",
    "\n",
    "Here only the measurement related stuff is commented. Later things get more interesting again."
   ]
  },
  {
   "cell_type": "code",
   "execution_count": 21,
   "id": "37b55006",
   "metadata": {},
   "outputs": [],
   "source": [
    "from qupulse.pulses.plotting import plot"
   ]
  },
  {
   "cell_type": "code",
   "execution_count": 22,
   "id": "be93574e",
   "metadata": {},
   "outputs": [],
   "source": [
    "red_pulse = qupulse.pulses.TablePT({\"red\": [\n",
    "    (\"0*dt\", 0),\n",
    "    (\"1*dt\", 4, 'hold'),\n",
    "    (\"4*dt\", .5, 'linear'),\n",
    "    (\"5*dt\", 2, 'hold'),\n",
    "    (\"6*dt\", .5, 'hold'),\n",
    "    (\"15*dt\", .5, 'jump'),\n",
    "]})"
   ]
  },
  {
   "cell_type": "code",
   "execution_count": 23,
   "id": "1d42e3fc",
   "metadata": {},
   "outputs": [],
   "source": [
    "green_pulse = qupulse.pulses.SequencePT(*[\n",
    "    qupulse.pulses.FunctionPT(\".1\", \"6*dt\", channel=\"green\"),\n",
    "    qupulse.pulses.FunctionPT(\".1+(t/dt)**2*.9\", \"1*dt\", channel=\"green\"),\n",
    "    qupulse.pulses.FunctionPT(\"1\", \"1*dt\", channel=\"green\"),\n",
    "    qupulse.pulses.FunctionPT(\"1+sin((t/dt)*2*pi)*exp(-((t/dt)-2)**2)\", \"5*dt\", channel=\"green\"),\n",
    "    qupulse.pulses.FunctionPT(\"1\", \"1*dt\", channel=\"green\"),\n",
    "    qupulse.pulses.FunctionPT(\"0\", \"1*dt\", channel=\"green\"),\n",
    "]\n",
    ")"
   ]
  },
  {
   "cell_type": "code",
   "execution_count": 24,
   "id": "d2632242",
   "metadata": {},
   "outputs": [],
   "source": [
    "measured_pt = qupulse.pulses.PointPT([(\"0*dt\", 0), (\"0*dt\", 1), (\"15*dt\", 1), (\"15*dt\", 0)],\n",
    "                      channel_names=(\"trigger_out\",),\n",
    "                      measurements=[('A', \"dt*3\", \"dt*1.5\"), ('A', \"dt*12\", \"dt*3\"), ('R', \"dt*6.5\", \"dt*1.4\"), ('R', \"dt*14\", \"dt*1\"), ('T', \"dt*10\", \"dt*3\")])"
   ]
  },
  {
   "cell_type": "markdown",
   "id": "97c66abd",
   "metadata": {},
   "source": [
    "As one sees in the prior cell, one can also specify measurement windows with variables."
   ]
  },
  {
   "cell_type": "code",
   "execution_count": 25,
   "id": "ea1cdd4c",
   "metadata": {},
   "outputs": [
    {
     "name": "stderr",
     "output_type": "stream",
     "text": [
      "\\\\Janeway\\User AG Bluhm\\Surrey\\git\\qupulse\\qupulse\\pulses\\arithmetic_pulse_template.py:73: ImplicitAtomicityInArithmeticPT: ArithmeticAtomicPulseTemplate treats all operands as if they are atomic. You can silence this warning by passing `silent_atomic=True` or by ignoring this category.\n",
      "  warnings.warn(\"ArithmeticAtomicPulseTemplate treats all operands as if they are atomic. \"\n"
     ]
    }
   ],
   "source": [
    "combined_pulse = red_pulse+green_pulse+measured_pt"
   ]
  },
  {
   "cell_type": "code",
   "execution_count": 26,
   "id": "eb2ea77b",
   "metadata": {},
   "outputs": [
    {
     "name": "stdout",
     "output_type": "stream",
     "text": [
      "{'T', 'R', 'A'}\n",
      "[]\n",
      "set()\n"
     ]
    }
   ],
   "source": [
    "print(combined_pulse.measurement_names)\n",
    "print(combined_pulse.measurement_declarations)\n",
    "print(combined_pulse.measurement_parameters)"
   ]
  },
  {
   "cell_type": "code",
   "execution_count": 27,
   "id": "eeeee0ec",
   "metadata": {},
   "outputs": [
    {
     "name": "stderr",
     "output_type": "stream",
     "text": [
      "C:\\Users\\Surrey\\AppData\\Local\\Temp\\ipykernel_13892\\4247546520.py:1: DeprecationWarning: This is only a hack until https://github.com/qutech/qupulse/issues/578 is resolved. Do not call this method directly\n",
      "  combined_pulse.get_measurement_windows(parameters={\"dt\": 1e8}, measurement_mapping={\"A\":\"A\", \"R\":\"R\", \"T\":\"T\"})\n"
     ]
    },
    {
     "data": {
      "text/plain": [
       "[('A', 300000000.0, 150000000.0),\n",
       " ('A', 1200000000.0, 300000000.0),\n",
       " ('R', 650000000.0, 140000000.0),\n",
       " ('R', 1400000000.0, 100000000.0),\n",
       " ('T', 1000000000.0, 300000000.0)]"
      ]
     },
     "execution_count": 27,
     "metadata": {},
     "output_type": "execute_result"
    }
   ],
   "source": [
    "combined_pulse.get_measurement_windows(parameters={\"dt\": 1e8}, measurement_mapping={\"A\":\"A\", \"R\":\"R\", \"T\":\"T\"})"
   ]
  },
  {
   "cell_type": "code",
   "execution_count": 28,
   "id": "d325087c",
   "metadata": {},
   "outputs": [
    {
     "data": {
      "image/png": "[encoded data removed]",
      "text/plain": [
       "<Figure size 432x288 with 1 Axes>"
      ]
     },
     "metadata": {
      "needs_background": "light"
     },
     "output_type": "display_data"
    }
   ],
   "source": [
    "plot(combined_pulse, sample_rate=1e-6, plot_measurements=combined_pulse.measurement_names, parameters={\"dt\": 1e8}) # combined_pulse.measurement_names\n",
    "plt.show()"
   ]
  },
  {
   "cell_type": "code",
   "execution_count": 29,
   "id": "70da8095",
   "metadata": {},
   "outputs": [],
   "source": [
    "idle_pulse = qupulse.pulses.TablePT({\"red\": [\n",
    "    (\"0*dt\", 0),\n",
    "    (\"5*dt\", 0),\n",
    "],\n",
    "                                     \"green\": [\n",
    "    (\"0*dt\", 0),\n",
    "    (\"5*dt\", 0),\n",
    "],\n",
    "                                     \"trigger_out\": [\n",
    "    (\"0*dt\", 0),\n",
    "    (\"5*dt\", 0),\n",
    "]})"
   ]
  },
  {
   "cell_type": "code",
   "execution_count": 30,
   "id": "20626e0f",
   "metadata": {},
   "outputs": [],
   "source": [
    "rep = qupulse.pulses.repetition_pulse_template.RepetitionPulseTemplate(\n",
    "    body=qupulse.pulses.SequencePT(combined_pulse, idle_pulse),\n",
    "    repetition_count=10\n",
    ")"
   ]
  },
  {
   "cell_type": "code",
   "execution_count": 31,
   "id": "62aab374",
   "metadata": {},
   "outputs": [
    {
     "data": {
      "image/png": "[encoded data removed]",
      "text/plain": [
       "<Figure size 432x288 with 1 Axes>"
      ]
     },
     "metadata": {
      "needs_background": "light"
     },
     "output_type": "display_data"
    }
   ],
   "source": [
    "plot(rep, sample_rate=1e-6, plot_measurements=combined_pulse.measurement_names, parameters={\"dt\": 1e8})\n",
    "plt.show()"
   ]
  },
  {
   "cell_type": "code",
   "execution_count": 32,
   "id": "d5c5f40f",
   "metadata": {},
   "outputs": [
    {
     "data": {
      "text/plain": [
       "{'A', 'R', 'T'}"
      ]
     },
     "execution_count": 32,
     "metadata": {},
     "output_type": "execute_result"
    }
   ],
   "source": [
    "rep.measurement_names"
   ]
  },
  {
   "cell_type": "code",
   "execution_count": 33,
   "id": "c547473f",
   "metadata": {},
   "outputs": [
    {
     "data": {
      "text/plain": [
       "[]"
      ]
     },
     "execution_count": 33,
     "metadata": {},
     "output_type": "execute_result"
    }
   ],
   "source": [
    "rep.get_measurement_windows(parameters={\"dt\": 1e8}, measurement_mapping={\"A\":\"A\", \"R\":\"R\", \"T\":\"T\"})"
   ]
  },
  {
   "cell_type": "markdown",
   "id": "3bd81101",
   "metadata": {},
   "source": [
    "(When writing this documentation the prior cell did not return the expected measurement windows, but an empty list. When compiling that pulse and registering the program, the correct windows are written into the driver's memory.)"
   ]
  },
  {
   "cell_type": "markdown",
   "id": "b23c7772",
   "metadata": {},
   "source": [
    "For repetitions like this, all windows are defined in relation to the beginning of the total pulse, when one want to trigger that more elegantly, which might be the case if there are long duration in which one might not want to measure, one might need to become a bit creative. One solution would be to only define the first set of measurement windows, then let the trigger trigger the lock-in on every iteration of the pulse's loop, and then when defining the trigger settings later, allow for multiple triggers. Then the driver takes the windows with respect to the corresponding trigger. "
   ]
  },
  {
   "cell_type": "markdown",
   "id": "3d4b0951",
   "metadata": {},
   "source": [
    "## Execution\n",
    "\n",
    "1. map output channels to dummy instrument\n",
    "2. arm scan and see if everything works"
   ]
  },
  {
   "cell_type": "code",
   "execution_count": 34,
   "id": "031fd70e",
   "metadata": {},
   "outputs": [],
   "source": [
    "from qupulse.utils.types import TimeType"
   ]
  },
  {
   "cell_type": "code",
   "execution_count": 35,
   "id": "f0143c3d",
   "metadata": {},
   "outputs": [],
   "source": [
    "from qupulse.hardware.awgs.virtual import VirtualAWG"
   ]
  },
  {
   "cell_type": "code",
   "execution_count": 36,
   "id": "843fb93c",
   "metadata": {},
   "outputs": [],
   "source": [
    "from qupulse.hardware.setup import HardwareSetup, MeasurementMask, PlaybackChannel"
   ]
  },
  {
   "cell_type": "markdown",
   "id": "d4514092",
   "metadata": {},
   "source": [
    "As we also have a pulse, that contains some outputs, a virtual awg is used."
   ]
  },
  {
   "cell_type": "code",
   "execution_count": 37,
   "id": "7df89611",
   "metadata": {},
   "outputs": [],
   "source": [
    "my_awg = VirtualAWG(\"awg\", channels=3)"
   ]
  },
  {
   "cell_type": "markdown",
   "id": "4146568f",
   "metadata": {},
   "source": [
    "The ```HardwareSetup``` is the central qupulse object that contains all devices for this setup. "
   ]
  },
  {
   "cell_type": "code",
   "execution_count": 38,
   "id": "21afd2d6",
   "metadata": {},
   "outputs": [],
   "source": [
    "setup = HardwareSetup()"
   ]
  },
  {
   "cell_type": "markdown",
   "id": "dd09864c",
   "metadata": {},
   "source": [
    "We now register the link between the measurement window names and the drivers measurement window names. Similarly for the playback channels (i.e. outputs). "
   ]
  },
  {
   "cell_type": "code",
   "execution_count": 39,
   "id": "1fd061c4",
   "metadata": {},
   "outputs": [
    {
     "data": {
      "text/plain": [
       "{'R': {'demods/0/sample.R'},\n",
       " 'X': {'demods/0/sample.X'},\n",
       " 'Y': {'demods/0/sample.Y'},\n",
       " 'A': {'auxins/0/sample.AuxIn0.avg'},\n",
       " 'many': {'auxins/0/sample.AuxIn0.avg',\n",
       "  'demods/0/sample.R',\n",
       "  'demods/0/sample.X',\n",
       "  'demods/0/sample.Y'}}"
      ]
     },
     "execution_count": 39,
     "metadata": {},
     "output_type": "execute_result"
    }
   ],
   "source": [
    "my_lockin.default_program.channel_mapping"
   ]
  },
  {
   "cell_type": "code",
   "execution_count": 40,
   "id": "2e4e2b0b",
   "metadata": {},
   "outputs": [],
   "source": [
    "for n in my_lockin.default_program.channel_mapping.keys():\n",
    "    setup.set_measurement(f\"{n}\", MeasurementMask(my_lockin, n))"
   ]
  },
  {
   "cell_type": "code",
   "execution_count": 41,
   "id": "632a30f6",
   "metadata": {},
   "outputs": [],
   "source": [
    "for i, c in enumerate([\"red\", \"green\", \"trigger_out\"]):\n",
    "    setup.set_channel(f\"{c}\", PlaybackChannel(my_awg, i))"
   ]
  },
  {
   "cell_type": "markdown",
   "id": "8b1d4e21",
   "metadata": {},
   "source": [
    "Now the pulses are compiled into programs. This contains the measurement mapping and the parameters. When a measurement window is mapped to ```None``` it is omitted."
   ]
  },
  {
   "cell_type": "code",
   "execution_count": 42,
   "id": "6abf0e7f",
   "metadata": {},
   "outputs": [],
   "source": [
    "test_program = combined_pulse.create_program(measurement_mapping={\"A\":\"A\", \"R\":\"R\", \"T\":\"X\"}, parameters={\"dt\": 1e6})"
   ]
  },
  {
   "cell_type": "code",
   "execution_count": 43,
   "id": "b3d52873",
   "metadata": {},
   "outputs": [],
   "source": [
    "test_rep_program = rep.create_program(measurement_mapping={\"A\":\"A\", \"R\":\"R\", \"T\":\"X\"}, parameters={\"dt\": 1e6})"
   ]
  },
  {
   "cell_type": "code",
   "execution_count": 44,
   "id": "e35f0e2f",
   "metadata": {},
   "outputs": [],
   "source": [
    "test_program_single = combined_pulse.create_program(measurement_mapping={\"A\":None, \"R\":\"R\", \"T\":None}, parameters={\"dt\": 1e6})"
   ]
  },
  {
   "cell_type": "markdown",
   "id": "965a3992",
   "metadata": {},
   "source": [
    "a helper function for plotting the returned data. The measured data can also be returned in a raw format, where the data is not cropped to the measurement windows. For that call ```my_lockin.measure_program(return_raw=True)```."
   ]
  },
  {
   "cell_type": "code",
   "execution_count": 45,
   "id": "7f811d07",
   "metadata": {},
   "outputs": [],
   "source": [
    "def plot_windows(data):\n",
    "    for j, w in enumerate(data.keys()):\n",
    "        for i, c in enumerate(data[w].keys()):\n",
    "            for k, e in enumerate(data[w][c]):\n",
    "                plt.plot(e[\"time\"].values.T, e.values.T, color=f\"C{j}\", label=(w if (i==0 and k==0) else None))\n",
    "                plt.scatter(e[\"time\"].values.T, e.values.T, color=f\"C{j}\", marker=\"x\", alpha=.1)\n",
    "    plt.legend()\n",
    "    plt.show()"
   ]
  },
  {
   "cell_type": "code",
   "execution_count": 46,
   "id": "176c260b",
   "metadata": {},
   "outputs": [],
   "source": [
    "import numpy as np"
   ]
  },
  {
   "cell_type": "markdown",
   "id": "564e8107",
   "metadata": {},
   "source": [
    "Now we will register the trigger settings for the lock-in. They are program specific. \n",
    "Also the devices name is added to the ```trigger_input``` strings. \n",
    "The zurich instruments lock-ins have a funny naming convention, where the AUXIN inputs start at 0 and the TRUGINs at 1.\n",
    "\n",
    "Inside the driver, some input specific things are set regarding if certain strings are present in the ```trigger_input``` path. The parameters in ```other_settings``` are set after all the other trigger specific things and thus can be used to set more things. If the count is set to np.inf, the acquisition will only finish, if ```my_lockin.stop_acquisition()``` is called. The ```measure_program``` can be called such that is waits for the daq to finish the acquisition, or to already read what had been recorded, or to return partial measurements.\n",
    "\n",
    "For further information, see to the doc-string of that function."
   ]
  },
  {
   "cell_type": "code",
   "execution_count": 47,
   "id": "d0c8669f",
   "metadata": {},
   "outputs": [],
   "source": [
    "my_lockin.register_trigger_settings(program_name=\"test\",\n",
    "                                   trigger_input=f\"demods/0/sample.AuxIn1\", # here AuxInN referese to the printer label N+1\n",
    "                                   edge=\"rising\",\n",
    "                                   trigger_count=3, # this defines the number of triggers to capture in one element (i.e. rows)\n",
    "                                   level=.5, # this sets the trigger level\n",
    "                                   measurement_count=np.inf, # this defined the number of rounds that are to be measured (e.g. how often the \"single\" button should be pressed)\n",
    "                                   other_settings={\"holdoff/time\": 1e-3} # this sets the duration for which new triggers are ignored\n",
    "                                   )\n",
    "\n",
    "# this will overwrite the earlier set settings\n",
    "my_lockin.register_trigger_settings(program_name=\"test\",\n",
    "                                   trigger_input=f\"demods/0/sample.TrigIn1\", # here TrigInN referrers to the printer label N\n",
    "                                   edge=\"rising\",\n",
    "                                   trigger_count=3,\n",
    "                                   level=.5,\n",
    "                                   measurement_count=3,\n",
    "                                   other_settings={\"holdoff/time\": 1e-3}\n",
    "                                   )"
   ]
  },
  {
   "cell_type": "markdown",
   "id": "5e6a3516",
   "metadata": {},
   "source": [
    "And now the program is going to be registered. The run_callback is the function call that is called when the ```setup.run_program(program_name_goes_here)``` function is called. If one want to trigger the lock-in via software, one can call ```my_lockin.force_trigger()``` here."
   ]
  },
  {
   "cell_type": "code",
   "execution_count": 48,
   "id": "f069c321",
   "metadata": {
    "scrolled": true
   },
   "outputs": [],
   "source": [
    "# setup.register_program('test', test_program, run_callback=lambda *a, **b: my_lockin.force_trigger(), update=True)\n",
    "setup.register_program('test', test_program, run_callback=lambda *a, **b: None, update=True)"
   ]
  },
  {
   "cell_type": "code",
   "execution_count": 49,
   "id": "b10655d1",
   "metadata": {},
   "outputs": [],
   "source": [
    "my_lockin.register_operations(\"test\", postprocessing_crop_windows)\n",
    "# my_lockin.register_operations(\"test\", postprocessing_average_within_windows)"
   ]
  },
  {
   "cell_type": "code",
   "execution_count": 50,
   "id": "b037496c",
   "metadata": {},
   "outputs": [],
   "source": [
    "setup.register_program('test_rep', test_rep_program, run_callback=lambda *a, **b: None, update=True)"
   ]
  },
  {
   "cell_type": "markdown",
   "id": "9c3f8ac9",
   "metadata": {},
   "source": [
    "And after that call, the lock-in is armed and the settings should have been updated. If one does not want the settings to update every time, one can set the ```self.force_update_on_arm``` field to ```False```. Within the update call, the sample rate is queried and the window dimensions are updated. Only later in the read call the information is applied and the data is then cropped (but it is not checked if the selected program is the one corresponding to the retrieved data)."
   ]
  },
  {
   "cell_type": "code",
   "execution_count": 51,
   "id": "d38e253f",
   "metadata": {
    "scrolled": false
   },
   "outputs": [
    {
     "data": {
      "text/plain": [
       "MFLIProgram(default_channels=None, channel_mapping=None, windows={'X': (array([1.0e+07, 3.0e+07, 5.0e+07, 7.0e+07, 9.0e+07, 1.1e+08, 1.3e+08,\n",
       "       1.5e+08, 1.7e+08, 1.9e+08]), array([3000000., 3000000., 3000000., 3000000., 3000000., 3000000.,\n",
       "       3000000., 3000000., 3000000., 3000000.])), 'R': (array([6.500e+06, 1.400e+07, 2.650e+07, 3.400e+07, 4.650e+07, 5.400e+07,\n",
       "       6.650e+07, 7.400e+07, 8.650e+07, 9.400e+07, 1.065e+08, 1.140e+08,\n",
       "       1.265e+08, 1.340e+08, 1.465e+08, 1.540e+08, 1.665e+08, 1.740e+08,\n",
       "       1.865e+08, 1.940e+08]), array([1400000., 1000000., 1400000., 1000000., 1400000., 1000000.,\n",
       "       1400000., 1000000., 1400000., 1000000., 1400000., 1000000.,\n",
       "       1400000., 1000000., 1400000., 1000000., 1400000., 1000000.,\n",
       "       1400000., 1000000.])), 'A': (array([3.00e+06, 1.20e+07, 2.30e+07, 3.20e+07, 4.30e+07, 5.20e+07,\n",
       "       6.30e+07, 7.20e+07, 8.30e+07, 9.20e+07, 1.03e+08, 1.12e+08,\n",
       "       1.23e+08, 1.32e+08, 1.43e+08, 1.52e+08, 1.63e+08, 1.72e+08,\n",
       "       1.83e+08, 1.92e+08]), array([1500000., 3000000., 1500000., 3000000., 1500000., 3000000.,\n",
       "       1500000., 3000000., 1500000., 3000000., 1500000., 3000000.,\n",
       "       1500000., 3000000., 1500000., 3000000., 1500000., 3000000.,\n",
       "       1500000., 3000000.]))}, trigger_settings=None, other_settings={}, operations=None)"
      ]
     },
     "execution_count": 51,
     "metadata": {},
     "output_type": "execute_result"
    }
   ],
   "source": [
    "my_lockin.programs[\"test_rep\"]"
   ]
  },
  {
   "cell_type": "markdown",
   "id": "710102b3",
   "metadata": {},
   "source": [
    "As also incomplete data is returned, when the driver asks the lock-in for new data and the lock-in (or the data server) deletes the returned data, some form of memory is needed to peace data from different calls together. This is done in the ```my_lockin.read_memory``` field. If the programs are changed, and as things are not tracked in that regard, one might need to clear that ever so often. This can be done using ```my_lockin.clear_memory()```."
   ]
  },
  {
   "cell_type": "code",
   "execution_count": 52,
   "id": "060a1a4c",
   "metadata": {},
   "outputs": [],
   "source": [
    "my_lockin.read_memory = {}"
   ]
  },
  {
   "cell_type": "markdown",
   "id": "0ecd69a6",
   "metadata": {},
   "source": [
    "And now the program is run:"
   ]
  },
  {
   "cell_type": "code",
   "execution_count": 53,
   "id": "cf3ce29e",
   "metadata": {},
   "outputs": [
    {
     "name": "stderr",
     "output_type": "stream",
     "text": [
      "\\\\Janeway\\User AG Bluhm\\Surrey\\git\\qupulse\\qupulse\\hardware\\dacs\\mfli.py:551: UserWarning: The channel auxins/0/sample.AuxIn0.avg does not have an interface for enabling it. If needed, this can be done using the web interface.\n",
      "  warnings.warn(\n"
     ]
    }
   ],
   "source": [
    "setup.run_program(\"test\")"
   ]
  },
  {
   "cell_type": "markdown",
   "id": "358f204c",
   "metadata": {},
   "source": [
    "For testing purposes the following two cells contain different ways to trigger things. The first using force_trigger calls. And the second using the auxiliary output, which is connected to the earlier specified trigger input using a coaxial cable."
   ]
  },
  {
   "cell_type": "code",
   "execution_count": 54,
   "id": "1505ae0a",
   "metadata": {},
   "outputs": [],
   "source": [
    "for _ in range(3*3):\n",
    "    my_lockin.force_trigger(None)\n",
    "    time.sleep(2)\n"
   ]
  },
  {
   "cell_type": "code",
   "execution_count": 55,
   "id": "8504fda1",
   "metadata": {},
   "outputs": [],
   "source": [
    "for _ in range(3*3):\n",
    "    my_lockin.api_session.setDouble(f\"/{my_lockin.serial}/auxouts/0/offset\", 1)\n",
    "    time.sleep(1)\n",
    "    my_lockin.api_session.setDouble(f\"/{my_lockin.serial}/auxouts/0/offset\", 0)\n",
    "    time.sleep(3)"
   ]
  },
  {
   "cell_type": "markdown",
   "id": "5ae3314c",
   "metadata": {},
   "source": [
    "The ```stop_acquisition()``` is called to stop the acquisition when the count in the trigger_count configuration is set to np.inf."
   ]
  },
  {
   "cell_type": "code",
   "execution_count": 56,
   "id": "8ab20ee5",
   "metadata": {},
   "outputs": [],
   "source": [
    "my_lockin.stop_acquisition()"
   ]
  },
  {
   "cell_type": "markdown",
   "id": "cf3104cc",
   "metadata": {},
   "source": [
    "And then we read some data back from the device."
   ]
  },
  {
   "cell_type": "code",
   "execution_count": 58,
   "id": "8d97dfac",
   "metadata": {
    "scrolled": true
   },
   "outputs": [
    {
     "data": {
      "image/png": "[encoded data removed]",
      "text/plain": [
       "<Figure size 432x288 with 1 Axes>"
      ]
     },
     "metadata": {
      "needs_background": "light"
     },
     "output_type": "display_data"
    },
    {
     "data": {
      "image/png": "[encoded data removed]",
      "text/plain": [
       "<Figure size 432x288 with 1 Axes>"
      ]
     },
     "metadata": {
      "needs_background": "light"
     },
     "output_type": "display_data"
    },
    {
     "data": {
      "image/png": "[encoded data removed]",
      "text/plain": [
       "<Figure size 432x288 with 1 Axes>"
      ]
     },
     "metadata": {
      "needs_background": "light"
     },
     "output_type": "display_data"
    }
   ],
   "source": [
    "data = my_lockin.measure_program(wait=False, return_raw=False)#(wait=False, fail_if_incomplete=False)\n",
    "if data is not None:\n",
    "    for d in data:\n",
    "        plot_windows(d)\n",
    "else:\n",
    "    print(\"RETURNED NONE\")"
   ]
  },
  {
   "cell_type": "code",
   "execution_count": null,
   "id": "b715a334",
   "metadata": {},
   "outputs": [],
   "source": []
  },
  {
   "cell_type": "markdown",
   "id": "b0b4daa3",
   "metadata": {},
   "source": [
    "And now, let's look at again a different program"
   ]
  },
  {
   "cell_type": "code",
   "execution_count": 60,
   "id": "1ac65d7f",
   "metadata": {},
   "outputs": [],
   "source": [
    "my_lockin.clear_memory()\n",
    "my_lockin.reset_daq_module()"
   ]
  },
  {
   "cell_type": "code",
   "execution_count": 61,
   "id": "fe7ace96",
   "metadata": {
    "scrolled": true
   },
   "outputs": [],
   "source": [
    "# setup.register_program('test', test_program, run_callback=lambda *a, **b: my_lockin.force_trigger(None), update=True)\n",
    "setup.register_program('test2', test_program_single, run_callback=lambda *a, **b: None, update=True)"
   ]
  },
  {
   "cell_type": "code",
   "execution_count": 62,
   "id": "be1c9ade",
   "metadata": {},
   "outputs": [],
   "source": [
    "my_lockin.register_trigger_settings(program_name=\"test2\",\n",
    "                                   trigger_input=f\"demods/0/sample.TrigIn1\", # here TrigInN referese to the printer label N\n",
    "                                   edge=\"rising\",\n",
    "                                   trigger_count=3,\n",
    "                                   level=.5,\n",
    "                                   other_settings={\"holdoff/time\": 1e-3}\n",
    "                                   )"
   ]
  },
  {
   "cell_type": "code",
   "execution_count": 67,
   "id": "d0eac924",
   "metadata": {},
   "outputs": [],
   "source": [
    "my_lockin.register_operations(\"test2\", postprocessing_crop_windows)"
   ]
  },
  {
   "cell_type": "code",
   "execution_count": 68,
   "id": "58dee40c",
   "metadata": {},
   "outputs": [],
   "source": [
    "setup.run_program(\"test2\")"
   ]
  },
  {
   "cell_type": "code",
   "execution_count": 69,
   "id": "dc4dc54f",
   "metadata": {},
   "outputs": [],
   "source": [
    "for _ in range(3*3):\n",
    "    my_lockin.api_session.setDouble(f\"/{my_lockin.serial}/auxouts/0/offset\", 1)\n",
    "    time.sleep(1)\n",
    "    my_lockin.api_session.setDouble(f\"/{my_lockin.serial}/auxouts/0/offset\", 0)\n",
    "    time.sleep(3)"
   ]
  },
  {
   "cell_type": "code",
   "execution_count": 70,
   "id": "d206d097",
   "metadata": {},
   "outputs": [
    {
     "data": {
      "image/png": "[encoded data removed]",
      "text/plain": [
       "<Figure size 432x288 with 1 Axes>"
      ]
     },
     "metadata": {
      "needs_background": "light"
     },
     "output_type": "display_data"
    },
    {
     "data": {
      "image/png": "[encoded data removed]",
      "text/plain": [
       "<Figure size 432x288 with 1 Axes>"
      ]
     },
     "metadata": {
      "needs_background": "light"
     },
     "output_type": "display_data"
    },
    {
     "data": {
      "image/png": "[encoded data removed]",
      "text/plain": [
       "<Figure size 432x288 with 1 Axes>"
      ]
     },
     "metadata": {
      "needs_background": "light"
     },
     "output_type": "display_data"
    },
    {
     "data": {
      "image/png": "[encoded data removed]",
      "text/plain": [
       "<Figure size 432x288 with 1 Axes>"
      ]
     },
     "metadata": {
      "needs_background": "light"
     },
     "output_type": "display_data"
    },
    {
     "data": {
      "image/png": "[encoded data removed]",
      "text/plain": [
       "<Figure size 432x288 with 1 Axes>"
      ]
     },
     "metadata": {
      "needs_background": "light"
     },
     "output_type": "display_data"
    },
    {
     "data": {
      "image/png": "[encoded data removed]",
      "text/plain": [
       "<Figure size 432x288 with 1 Axes>"
      ]
     },
     "metadata": {
      "needs_background": "light"
     },
     "output_type": "display_data"
    }
   ],
   "source": [
    "data = my_lockin.measure_program(return_raw=False)#(wait=False, fail_if_incomplete=False)\n",
    "if data is not None:\n",
    "    for d in data:\n",
    "        plot_windows(d)\n",
    "else:\n",
    "    print(\"RETURNED NONE\")"
   ]
  },
  {
   "cell_type": "code",
   "execution_count": 66,
   "id": "94e01138",
   "metadata": {},
   "outputs": [
    {
     "name": "stdout",
     "output_type": "stream",
     "text": [
      "> \u001b[1;32mc:\\users\\surrey\\appdata\\local\\temp\\ipykernel_13892\\952329596.py\u001b[0m(2)\u001b[0;36mplot_windows\u001b[1;34m()\u001b[0m\n",
      "\n",
      "ipdb> data\n",
      "'/dev4797/demods/0/sample.r'\n",
      "ipdb> u\n",
      "> \u001b[1;32mc:\\users\\surrey\\appdata\\local\\temp\\ipykernel_13892\\204029398.py\u001b[0m(4)\u001b[0;36m<cell line: 2>\u001b[1;34m()\u001b[0m\n",
      "\n",
      "ipdb> data\n",
      "{'/dev4797/demods/0/sample.r': [<xarray.DataArray '/dev4797/demods/0/sample.r' (row: 3, col: 228)>\n",
      "array([[2.29439020e-06, 2.52993391e-06, 2.75723595e-06, 2.98964174e-06,\n",
      "        3.23372421e-06, 3.47543592e-06, 3.69586935e-06, 3.86975728e-06,\n",
      "        3.99453325e-06, 4.10223783e-06, 4.21237993e-06, 4.30662357e-06,\n",
      "        4.36115085e-06, 4.36670876e-06, 4.33322519e-06, 4.27960630e-06,\n",
      "        4.22439338e-06, 4.17741629e-06, 4.13593279e-06, 4.08753749e-06,\n",
      "        4.02874103e-06, 3.95674119e-06, 3.87274721e-06, 3.79136368e-06,\n",
      "        3.72070539e-06, 3.65714470e-06, 3.58999562e-06, 3.51539276e-06,\n",
      "        3.43128253e-06, 3.35685548e-06, 3.30350007e-06, 3.26843706e-06,\n",
      "        3.23733412e-06, 3.19184358e-06, 3.12635385e-06, 3.04183879e-06,\n",
      "        2.95828005e-06, 2.89284067e-06, 2.84518915e-06, 2.79303547e-06,\n",
      "        2.72350220e-06, 2.63936473e-06, 2.55017957e-06, 2.47914483e-06,\n",
      "        2.43590789e-06, 2.41025881e-06, 2.38641620e-06, 2.36224347e-06,\n",
      "        2.33238955e-06, 2.30657503e-06, 2.29964887e-06, 2.31467439e-06,\n",
      "        2.33662861e-06, 2.35641173e-06, 2.37137087e-06, 2.38875241e-06,\n",
      "        2.42555734e-06, 2.49442274e-06, 2.58710829e-06, 2.68124350e-06,\n",
      "        2.75955172e-06, 2.82052129e-06, 2.87733610e-06, 2.94696905e-06,\n",
      "        3.03768035e-06, 3.13974719e-06, 3.23803296e-06, 3.32327326e-06,\n",
      "        3.40098870e-06, 3.48106394e-06, 3.57135224e-06, 3.67332004e-06,\n",
      "        3.78727824e-06, 3.91105568e-06, 4.02480781e-06, 4.12381018e-06,\n",
      "        4.21972722e-06, 4.31759716e-06, 4.41018414e-06, 4.48567219e-06,\n",
      "...\n",
      "        2.49041063e-06, 2.77321990e-06, 3.04061728e-06, 3.26562599e-06,\n",
      "        3.44617836e-06, 3.58972559e-06, 3.69229437e-06, 3.75108819e-06,\n",
      "        3.76720779e-06, 3.73676126e-06, 3.65942105e-06, 3.54173062e-06,\n",
      "        3.41260856e-06, 3.28993658e-06, 3.17870027e-06, 3.06211020e-06,\n",
      "        2.92779449e-06, 2.76865066e-06, 2.58377712e-06, 2.39732687e-06,\n",
      "        2.21843778e-06, 2.04805936e-06, 1.87623089e-06, 1.69492947e-06,\n",
      "        1.51086329e-06, 1.34456821e-06, 1.20792319e-06, 1.09852803e-06,\n",
      "        1.00639479e-06, 9.19625063e-07, 8.44927226e-07, 8.15115365e-07,\n",
      "        8.58987718e-07, 9.56215893e-07, 1.06088387e-06, 1.15851062e-06,\n",
      "        1.26361235e-06, 1.39030224e-06, 1.54894590e-06, 1.72907054e-06,\n",
      "        1.90543392e-06, 2.06391881e-06, 2.19265471e-06, 2.30466124e-06,\n",
      "        2.43189865e-06, 2.58057748e-06, 2.73695739e-06, 2.88338072e-06,\n",
      "        3.01131268e-06, 3.11764855e-06, 3.21544555e-06, 3.32338756e-06,\n",
      "        3.44148308e-06, 3.56020619e-06, 3.66604179e-06, 3.73940926e-06,\n",
      "        3.77729370e-06, 3.79550785e-06, 3.81162227e-06, 3.83121596e-06,\n",
      "        3.83801799e-06, 3.81025605e-06, 3.74768403e-06, 3.65945180e-06,\n",
      "        3.56566226e-06, 3.47721041e-06, 3.39734862e-06, 3.31565888e-06,\n",
      "        3.20964794e-06, 3.07155526e-06, 2.91646888e-06, 2.76448281e-06,\n",
      "        2.61645019e-06, 2.46580987e-06, 2.30503591e-06, 2.12691576e-06,\n",
      "        1.93655526e-06, 1.75273664e-06, 1.59066020e-06, 1.44488484e-06]])\n",
      "Coordinates:\n",
      "    time     (row, col) float64 7.02e+11 7.02e+11 7.02e+11 ... 7.1e+11 7.1e+11\n",
      "Dimensions without coordinates: row, col\n",
      "Attributes:\n",
      "    systemtime:                  [1692865553]\n",
      "    createdtimestamp:            [42118520536]\n",
      "    changedtimestamp:            [42601097176]\n",
      "    flags:                       [1849]\n",
      "    moduleflags:                 [0]\n",
      "    chunksizebytes:              [0]\n",
      "    name:                        000 10:25:53.4101\n",
      "    status:                      [0]\n",
      "    groupindex:                  [0]\n",
      "    color:                       [0]\n",
      "    activerow:                   [2]\n",
      "    triggernumber:               [0]\n",
      "    gridrows:                    [3]\n",
      "    gridcols:                    [228]\n",
      "    gridmode:                    [4]\n",
      "    gridoperation:               [1]\n",
      "    griddirection:               [0]\n",
      "    gridrepetitions:             [1]\n",
      "    gridcoldelta:                [7.46666667e-05]\n",
      "    gridcoloffset:               [-0.001]\n",
      "    gridrowdelta:                [1.]\n",
      "    gridrowoffset:               [0.]\n",
      "    bandwidth:                   [nan]\n",
      "    center:                      [0.]\n",
      "    nenbw:                       [nan]\n",
      "    systemtime_converted:        [2.82144259e+10]\n",
      "    createdtimestamp_converted:  [7.01975342e+11]\n",
      "    changedtimestamp_converted:  [7.10018286e+11]\n",
      "    device_serial:               DEV4797\n",
      "    channel_name:                /dev4797/demods/0/sample.r, <xarray.DataArray '/dev4797/demods/0/sample.r' (row: 3, col: 228)>\n",
      "array([[2.12723580e-06, 2.23760496e-06, 2.34409608e-06, 2.45480986e-06,\n",
      "        2.58202348e-06, 2.72373432e-06, 2.86547936e-06, 2.98613365e-06,\n",
      "        3.07858441e-06, 3.15821730e-06, 3.23723439e-06, 3.31806729e-06,\n",
      "        3.39932789e-06, 3.46726144e-06, 3.51720831e-06, 3.55372838e-06,\n",
      "        3.58906441e-06, 3.62552331e-06, 3.64921291e-06, 3.64333921e-06,\n",
      "        3.60605962e-06, 3.54393165e-06, 3.46699686e-06, 3.38404802e-06,\n",
      "        3.28601593e-06, 3.16905198e-06, 3.03066450e-06, 2.87579468e-06,\n",
      "        2.72516862e-06, 2.59823510e-06, 2.49870358e-06, 2.40657131e-06,\n",
      "        2.30013378e-06, 2.18125044e-06, 2.06650061e-06, 1.97663842e-06,\n",
      "        1.92529736e-06, 1.89963432e-06, 1.89520970e-06, 1.91491517e-06,\n",
      "        1.97301594e-06, 2.07674031e-06, 2.22201373e-06, 2.38616190e-06,\n",
      "        2.53732547e-06, 2.65875511e-06, 2.75416234e-06, 2.84033838e-06,\n",
      "        2.92825281e-06, 3.01419835e-06, 3.08829442e-06, 3.13888585e-06,\n",
      "        3.16163393e-06, 3.16126428e-06, 3.13547824e-06, 3.10393859e-06,\n",
      "        3.05537995e-06, 2.97224076e-06, 2.85407977e-06, 2.70814828e-06,\n",
      "        2.55225994e-06, 2.40195230e-06, 2.26487340e-06, 2.13223182e-06,\n",
      "        1.98766554e-06, 1.83429333e-06, 1.68131171e-06, 1.53953459e-06,\n",
      "        1.40899339e-06, 1.27077339e-06, 1.10317071e-06, 9.23855788e-07,\n",
      "        7.71482125e-07, 6.71456432e-07, 6.36486775e-07, 6.55454995e-07,\n",
      "        7.09842874e-07, 7.94481532e-07, 9.18602846e-07, 1.07654530e-06,\n",
      "...\n",
      "        3.94304602e-06, 3.92870392e-06, 3.90450220e-06, 3.87259374e-06,\n",
      "        3.82262580e-06, 3.74567750e-06, 3.64802577e-06, 3.54361136e-06,\n",
      "        3.44860437e-06, 3.37175451e-06, 3.31278739e-06, 3.25490795e-06,\n",
      "        3.19235866e-06, 3.12515312e-06, 3.04788860e-06, 2.97411551e-06,\n",
      "        2.91372563e-06, 2.86059908e-06, 2.79919563e-06, 2.71266144e-06,\n",
      "        2.60229858e-06, 2.49230289e-06, 2.40453032e-06, 2.35249273e-06,\n",
      "        2.32529326e-06, 2.29418343e-06, 2.24682171e-06, 2.17982707e-06,\n",
      "        2.09702633e-06, 2.00666827e-06, 1.91139311e-06, 1.80598320e-06,\n",
      "        1.67930926e-06, 1.52765746e-06, 1.36086519e-06, 1.19204382e-06,\n",
      "        1.02652401e-06, 8.64534336e-07, 6.98939543e-07, 5.23912313e-07,\n",
      "        3.55569145e-07, 2.99238890e-07, 4.31552196e-07, 6.25134298e-07,\n",
      "        8.18765462e-07, 1.00547451e-06, 1.19518006e-06, 1.39348493e-06,\n",
      "        1.61278473e-06, 1.85055243e-06, 2.08680283e-06, 2.30467341e-06,\n",
      "        2.51322364e-06, 2.71778978e-06, 2.92172724e-06, 3.12142407e-06,\n",
      "        3.30191267e-06, 3.44331645e-06, 3.53988173e-06, 3.60607388e-06,\n",
      "        3.65136013e-06, 3.68227528e-06, 3.69619206e-06, 3.68109756e-06,\n",
      "        3.63249346e-06, 3.56305266e-06, 3.49473954e-06, 3.43892607e-06,\n",
      "        3.39039549e-06, 3.34318950e-06, 3.29465898e-06, 3.25042605e-06,\n",
      "        3.22296643e-06, 3.22503742e-06, 3.26336285e-06, 3.33671955e-06,\n",
      "        3.43454020e-06, 3.54592527e-06, 3.65842302e-06, 3.76783180e-06]])\n",
      "Coordinates:\n",
      "    time     (row, col) float64 7.14e+11 7.14e+11 ... 7.221e+11 7.221e+11\n",
      "Dimensions without coordinates: row, col\n",
      "Attributes:\n",
      "    systemtime:                  [1692865565]\n",
      "    createdtimestamp:            [42842295896]\n",
      "    changedtimestamp:            [43323317976]\n",
      "    flags:                       [1849]\n",
      "    moduleflags:                 [0]\n",
      "    chunksizebytes:              [0]\n",
      "    name:                        001 10:26:05.5124\n",
      "    status:                      [0]\n",
      "    groupindex:                  [0]\n",
      "    color:                       [0]\n",
      "    activerow:                   [2]\n",
      "    triggernumber:               [1]\n",
      "    gridrows:                    [3]\n",
      "    gridcols:                    [228]\n",
      "    gridmode:                    [4]\n",
      "    gridoperation:               [1]\n",
      "    griddirection:               [0]\n",
      "    gridrepetitions:             [1]\n",
      "    gridcoldelta:                [7.46666667e-05]\n",
      "    gridcoloffset:               [-0.001]\n",
      "    gridrowdelta:                [1.]\n",
      "    gridrowoffset:               [0.]\n",
      "    bandwidth:                   [nan]\n",
      "    center:                      [0.]\n",
      "    nenbw:                       [nan]\n",
      "    systemtime_converted:        [2.82144261e+10]\n",
      "    createdtimestamp_converted:  [7.14038265e+11]\n",
      "    changedtimestamp_converted:  [7.220553e+11]\n",
      "    device_serial:               DEV4797\n",
      "    channel_name:                /dev4797/demods/0/sample.r, <xarray.DataArray '/dev4797/demods/0/sample.r' (row: 3, col: 228)>\n",
      "array([[2.79262726e-06, 2.79339751e-06, 2.82217203e-06, 2.88056241e-06,\n",
      "        2.95310839e-06, 3.01499023e-06, 3.06179701e-06, 3.09597215e-06,\n",
      "        3.12131343e-06, 3.13378712e-06, 3.12411928e-06, 3.07715484e-06,\n",
      "        2.98358734e-06, 2.85706070e-06, 2.71564218e-06, 2.57667845e-06,\n",
      "        2.46745593e-06, 2.39234392e-06, 2.34263476e-06, 2.30327467e-06,\n",
      "        2.27420455e-06, 2.26380410e-06, 2.28060478e-06, 2.32386238e-06,\n",
      "        2.38739313e-06, 2.45775869e-06, 2.51761694e-06, 2.56769643e-06,\n",
      "        2.61412652e-06, 2.67399000e-06, 2.75499425e-06, 2.86163773e-06,\n",
      "        2.97733546e-06, 3.07722970e-06, 3.16598875e-06, 3.25576346e-06,\n",
      "        3.35898646e-06, 3.47217865e-06, 3.59113766e-06, 3.71320443e-06,\n",
      "        3.81895359e-06, 3.90954786e-06, 3.98830342e-06, 4.06249413e-06,\n",
      "        4.14424551e-06, 4.22680061e-06, 4.30422724e-06, 4.36571725e-06,\n",
      "        4.40926062e-06, 4.44258258e-06, 4.48156961e-06, 4.52630871e-06,\n",
      "        4.56888815e-06, 4.59477942e-06, 4.59834265e-06, 4.58300461e-06,\n",
      "        4.54452397e-06, 4.48350220e-06, 4.41033290e-06, 4.32362421e-06,\n",
      "        4.22282891e-06, 4.11940521e-06, 4.01891875e-06, 3.92727138e-06,\n",
      "        3.84787777e-06, 3.77289640e-06, 3.68947346e-06, 3.58688210e-06,\n",
      "        3.46944214e-06, 3.34788523e-06, 3.21801208e-06, 3.07146738e-06,\n",
      "        2.91309509e-06, 2.73817889e-06, 2.54764266e-06, 2.34712637e-06,\n",
      "        2.15276381e-06, 1.98188004e-06, 1.82792359e-06, 1.66951343e-06,\n",
      "...\n",
      "        2.18201987e-06, 2.21679803e-06, 2.24835478e-06, 2.26302432e-06,\n",
      "        2.25136247e-06, 2.21603749e-06, 2.15799395e-06, 2.07788505e-06,\n",
      "        1.97901834e-06, 1.85691843e-06, 1.69909991e-06, 1.51266192e-06,\n",
      "        1.31823588e-06, 1.13678757e-06, 9.78015190e-07, 8.33718609e-07,\n",
      "        6.90393314e-07, 5.34693456e-07, 3.70656540e-07, 2.21539753e-07,\n",
      "        1.22670757e-07, 1.27768775e-07, 1.93610322e-07, 2.82684197e-07,\n",
      "        3.92947022e-07, 5.18975722e-07, 6.44946036e-07, 7.54553378e-07,\n",
      "        8.49543740e-07, 9.34776770e-07, 1.02796742e-06, 1.13058844e-06,\n",
      "        1.23852123e-06, 1.33367012e-06, 1.40267240e-06, 1.43066637e-06,\n",
      "        1.43042025e-06, 1.41879443e-06, 1.40802429e-06, 1.39637804e-06,\n",
      "        1.37179232e-06, 1.32372484e-06, 1.24864587e-06, 1.15479332e-06,\n",
      "        1.05958924e-06, 9.68016586e-07, 8.85974042e-07, 8.23572727e-07,\n",
      "        7.78173531e-07, 7.46997584e-07, 7.28239475e-07, 7.24959819e-07,\n",
      "        7.44458592e-07, 7.97958600e-07, 8.80279119e-07, 9.81560872e-07,\n",
      "        1.09481635e-06, 1.21047572e-06, 1.33014059e-06, 1.45888109e-06,\n",
      "        1.59521543e-06, 1.74241577e-06, 1.88925184e-06, 2.00906439e-06,\n",
      "        2.09886371e-06, 2.16600461e-06, 2.22529855e-06, 2.28458072e-06,\n",
      "        2.35115533e-06, 2.41597634e-06, 2.46188217e-06, 2.47378364e-06,\n",
      "        2.45832351e-06, 2.41744537e-06, 2.35310032e-06, 2.27776603e-06,\n",
      "        2.19571905e-06, 2.09161968e-06, 1.94733021e-06, 1.77332086e-06]])\n",
      "Coordinates:\n",
      "    time     (row, col) float64 7.261e+11 7.261e+11 ... 7.341e+11 7.341e+11\n",
      "Dimensions without coordinates: row, col\n",
      "Attributes:\n",
      "    systemtime:                  [1692865577]\n",
      "    createdtimestamp:            [43565202136]\n",
      "    changedtimestamp:            [44047133656]\n",
      "    flags:                       [1849]\n",
      "    moduleflags:                 [0]\n",
      "    chunksizebytes:              [0]\n",
      "    name:                        002 10:26:17.4266\n",
      "    status:                      [0]\n",
      "    groupindex:                  [0]\n",
      "    color:                       [0]\n",
      "    activerow:                   [2]\n",
      "    triggernumber:               [2]\n",
      "    gridrows:                    [3]\n",
      "    gridcols:                    [228]\n",
      "    gridmode:                    [4]\n",
      "    gridoperation:               [1]\n",
      "    griddirection:               [0]\n",
      "    gridrepetitions:             [1]\n",
      "    gridcoldelta:                [7.46666667e-05]\n",
      "    gridcoloffset:               [-0.001]\n",
      "    gridrowdelta:                [1.]\n",
      "    gridrowoffset:               [0.]\n",
      "    bandwidth:                   [nan]\n",
      "    center:                      [0.]\n",
      "    nenbw:                       [nan]\n",
      "    systemtime_converted:        [2.82144263e+10]\n",
      "    createdtimestamp_converted:  [7.26086702e+11]\n",
      "    changedtimestamp_converted:  [7.34118894e+11]\n",
      "    device_serial:               DEV4797\n",
      "    channel_name:                /dev4797/demods/0/sample.r]}\n"
     ]
    },
    {
     "name": "stdout",
     "output_type": "stream",
     "text": [
      "ipdb> r\n"
     ]
    }
   ],
   "source": [
    "%debug"
   ]
  },
  {
   "cell_type": "code",
   "execution_count": 71,
   "id": "eb3982ba",
   "metadata": {},
   "outputs": [
    {
     "name": "stderr",
     "output_type": "stream",
     "text": [
      "\\\\Janeway\\User AG Bluhm\\Surrey\\git\\qupulse\\qupulse\\hardware\\dacs\\mfli.py:551: UserWarning: The channel auxins/0/sample.AuxIn0.avg does not have an interface for enabling it. If needed, this can be done using the web interface.\n",
      "  warnings.warn(\n"
     ]
    }
   ],
   "source": [
    "my_lockin.register_operations(\"test\", postprocessing_average_within_windows)\n",
    "setup.run_program(\"test\")"
   ]
  },
  {
   "cell_type": "code",
   "execution_count": 72,
   "id": "97961792",
   "metadata": {},
   "outputs": [],
   "source": [
    "for _ in range(3*3):\n",
    "    my_lockin.api_session.setDouble(f\"/{my_lockin.serial}/auxouts/0/offset\", 1)\n",
    "    time.sleep(1)\n",
    "    my_lockin.api_session.setDouble(f\"/{my_lockin.serial}/auxouts/0/offset\", 0)\n",
    "    time.sleep(3)"
   ]
  },
  {
   "cell_type": "code",
   "execution_count": 73,
   "id": "0c875430",
   "metadata": {},
   "outputs": [
    {
     "name": "stderr",
     "output_type": "stream",
     "text": [
      "\\\\Janeway\\User AG Bluhm\\Surrey\\git\\qupulse\\qupulse\\hardware\\dacs\\mfli.py:236: UserWarning: The received data for channel auxins/0/sample.AuxIn0.avg is empty.\n",
      "  warnings.warn(f\"The received data for channel {_cn} is empty.\")\n"
     ]
    }
   ],
   "source": [
    "data = my_lockin.measure_program(wait=False, return_raw=False)#(wait=False, fail_if_incomplete=False)"
   ]
  },
  {
   "cell_type": "code",
   "execution_count": 75,
   "id": "b66d0af1",
   "metadata": {},
   "outputs": [
    {
     "data": {
      "text/plain": [
       "[{'X': {'/dev4797/demods/0/sample.x': [-1.6976033251434238e-07]},\n",
       "  'R': {'/dev4797/demods/0/sample.r': [2.7888774838955474e-06,\n",
       "    2.803098860263337e-06]},\n",
       "  'A': {'/dev4797/auxins/0/sample.auxin0.avg': [-0.0011679467272793786,\n",
       "    -0.0011265247281813495]}},\n",
       " {'X': {'/dev4797/demods/0/sample.x': [6.544044351717994e-07]},\n",
       "  'R': {'/dev4797/demods/0/sample.r': [1.2454712756408315e-06,\n",
       "    2.5542675760151297e-06]},\n",
       "  'A': {}},\n",
       " {'X': {'/dev4797/demods/0/sample.x': [-8.034974107565979e-07]},\n",
       "  'R': {'/dev4797/demods/0/sample.r': [1.921719080586302e-06,\n",
       "    8.421336791063582e-07]},\n",
       "  'A': {'/dev4797/auxins/0/sample.auxin0.avg': [-0.0006591849960386753,\n",
       "    -0.0006591849960386753]}}]"
      ]
     },
     "execution_count": 75,
     "metadata": {},
     "output_type": "execute_result"
    }
   ],
   "source": [
    "data"
   ]
  },
  {
   "cell_type": "code",
   "execution_count": null,
   "id": "bef6b06c",
   "metadata": {},
   "outputs": [],
   "source": []
  },
  {
   "cell_type": "code",
   "execution_count": null,
   "id": "b53d2f80",
   "metadata": {},
   "outputs": [],
   "source": []
  },
  {
   "cell_type": "code",
   "execution_count": null,
   "id": "77491fc3",
   "metadata": {},
   "outputs": [],
   "source": []
  },
  {
   "cell_type": "code",
   "execution_count": null,
   "id": "5f8a9a09",
   "metadata": {},
   "outputs": [],
   "source": []
  }
 ],
 "metadata": {
  "kernelspec": {
   "display_name": "Python 3 (ipykernel)",
   "language": "python",
   "name": "python3"
  },
  "language_info": {
   "codemirror_mode": {
    "name": "ipython",
    "version": 3
   },
   "file_extension": ".py",
   "mimetype": "text/x-python",
   "name": "python",
   "nbconvert_exporter": "python",
   "pygments_lexer": "ipython3",
   "version": "3.10.4"
  }
 },
 "nbformat": 4,
 "nbformat_minor": 5
}
