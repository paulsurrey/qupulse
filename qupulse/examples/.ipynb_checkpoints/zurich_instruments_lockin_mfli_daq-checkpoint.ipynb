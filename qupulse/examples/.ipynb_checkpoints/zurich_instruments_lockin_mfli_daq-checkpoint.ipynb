{
 "cells": [
  {
   "cell_type": "markdown",
   "id": "6b0bdb5f",
   "metadata": {},
   "source": [
    "# Zurich Instruments Lock-In MFLI Data Aquesition"
   ]
  },
  {
   "cell_type": "markdown",
   "id": "d11c4c6c",
   "metadata": {},
   "source": [
    "This notebook was used to develop the qupulse MFLI driver and is now intended as a documentation with examples."
   ]
  },
  {
   "cell_type": "code",
   "execution_count": 131,
   "id": "37894582",
   "metadata": {},
   "outputs": [
    {
     "name": "stdout",
     "output_type": "stream",
     "text": [
      "The autoreload extension is already loaded. To reload it, use:\n",
      "  %reload_ext autoreload\n"
     ]
    }
   ],
   "source": [
    "# this function let's jupyter/ipython reload changes made in the source code automatically.\n",
    "%load_ext autoreload\n",
    "%autoreload 2"
   ]
  },
  {
   "cell_type": "code",
   "execution_count": 2,
   "id": "debe96ac",
   "metadata": {},
   "outputs": [],
   "source": [
    "import numpy as np"
   ]
  },
  {
   "cell_type": "code",
   "execution_count": 3,
   "id": "c0050171",
   "metadata": {},
   "outputs": [],
   "source": [
    "import time"
   ]
  },
  {
   "cell_type": "code",
   "execution_count": 4,
   "id": "f8975a27",
   "metadata": {},
   "outputs": [],
   "source": [
    "import matplotlib.pyplot as plt"
   ]
  },
  {
   "cell_type": "code",
   "execution_count": 6,
   "id": "76ba4dc7",
   "metadata": {},
   "outputs": [],
   "source": [
    "import qupulse"
   ]
  },
  {
   "cell_type": "code",
   "execution_count": 146,
   "id": "65986db0",
   "metadata": {},
   "outputs": [],
   "source": [
    "from qupulse.hardware.dacs.mfli import MFLIDAQ"
   ]
  },
  {
   "cell_type": "markdown",
   "id": "cdcb0f9d",
   "metadata": {},
   "source": [
    "Now we instanciate the MFLIDAQ instance. This object contains all funcitons necessary to work with qupulse. At this point, it only get information about how to talk to the device, there are not functional settings passed (other then resetting the device if ```reset=True``` is given.)."
   ]
  },
  {
   "cell_type": "code",
   "execution_count": 8,
   "id": "42af2895",
   "metadata": {},
   "outputs": [],
   "source": [
    "my_lockin = MFLIDAQ(device_serial=\"dev3442\", device_interface=\"PCIe\", data_server_addr=\"192.168.53.202\")"
   ]
  },
  {
   "cell_type": "markdown",
   "id": "4e5e5266",
   "metadata": {},
   "source": [
    "With ```my_lockin.api_session``` the the zhinst api session for that driver instance is adressed. In the following cell, this is doen to set the debug log level to the lowest level, logging everything. Thing will then be logged into the terminal where the jupyter notebook is running and into some file, whose path is stated in the terminal after calling the command. "
   ]
  },
  {
   "cell_type": "code",
   "execution_count": 9,
   "id": "a2599d33",
   "metadata": {},
   "outputs": [],
   "source": [
    "my_lockin.api_session.setDebugLevel(0)"
   ]
  },
  {
   "cell_type": "markdown",
   "id": "41396548",
   "metadata": {},
   "source": [
    "In the following, we will set the default settings of the device. It is recomended to also set all the other important settings here. E.g. the reference oscillatiors frequency and amplitude."
   ]
  },
  {
   "cell_type": "markdown",
   "id": "6e9a76ba",
   "metadata": {},
   "source": [
    "If the api does not allow for quering a sample rate for a certain gate, then eather the ```assumed_minimal_sample_rate``` is used (if not None) or the first demodulator is activated. This is done to have some sample rate to set the number of samples to record for certain measurement. The measurements define the regions to measure in units of nano seconds."
   ]
  },
  {
   "cell_type": "code",
   "execution_count": 10,
   "id": "016ae5ee",
   "metadata": {},
   "outputs": [],
   "source": [
    "my_lockin.assumed_minimal_sample_rate = 1.\n",
    "my_lockin.assumed_minimal_sample_rate = None"
   ]
  },
  {
   "cell_type": "markdown",
   "id": "3d273882",
   "metadata": {},
   "source": [
    "qupulse allows for defining multiple measurement windows for one measurement. The windows are identified by their name, a string. To set which channels to recorde in which window, the following dict is created. There the key defines the string for the window and the list for that key defined the paths that are to be measured. Internaly the device name is added in front. One can measure multiple channels in one window."
   ]
  },
  {
   "cell_type": "code",
   "execution_count": 11,
   "id": "264cb7fa",
   "metadata": {},
   "outputs": [],
   "source": [
    "my_lockin_channels = {\n",
    "    \"R\": [\"demods/0/sample.R\"],\n",
    "    \"X\": [\"demods/0/sample.X\"],\n",
    "    \"Y\": [\"demods/0/sample.Y\"],\n",
    "    \"A\": [\"auxins/0/sample.AuxIn0.avg\"],\n",
    "    \"many\": [\"demods/0/sample.R\", \"auxins/0/sample.AuxIn0.avg\", \"demods/0/sample.X\", \"demods/0/sample.Y\"]\n",
    "}"
   ]
  },
  {
   "cell_type": "markdown",
   "id": "a12e287d",
   "metadata": {},
   "source": [
    "When registerin these windows, one can give a program name under which these windows are saved. If this name is None, then they are used as a default. When then a other progarm is called which asks for a measurement window which has not been registered with that program name, then the default settings are used for that window."
   ]
  },
  {
   "cell_type": "code",
   "execution_count": 12,
   "id": "bb0ef71a",
   "metadata": {},
   "outputs": [],
   "source": [
    "for k, v in my_lockin_channels.items():\n",
    "    my_lockin.register_measurement_channel(program_name=None, channel_path=v, window_name=k)"
   ]
  },
  {
   "cell_type": "markdown",
   "id": "e684b4f8",
   "metadata": {},
   "source": [
    "Here are the currently saved informations for the default program ```None```"
   ]
  },
  {
   "cell_type": "code",
   "execution_count": 13,
   "id": "460a60f0",
   "metadata": {},
   "outputs": [
    {
     "data": {
      "text/plain": [
       "{'channel_mapping': {'R': {'demods/0/sample.R'},\n",
       "  'X': {'demods/0/sample.X'},\n",
       "  'Y': {'demods/0/sample.Y'},\n",
       "  'A': {'auxins/0/sample.AuxIn0.avg'},\n",
       "  'many': {'auxins/0/sample.AuxIn0.avg',\n",
       "   'demods/0/sample.R',\n",
       "   'demods/0/sample.X',\n",
       "   'demods/0/sample.Y'}}}"
      ]
     },
     "execution_count": 13,
     "metadata": {},
     "output_type": "execute_result"
    }
   ],
   "source": [
    "my_lockin.programs[None]"
   ]
  },
  {
   "cell_type": "markdown",
   "id": "732bb4a2",
   "metadata": {},
   "source": [
    "Now measurement windows are defined. This is usually done by qupuls when registering a program. But one can also to this by hand.\n",
    "\n",
    "The windows define for which period, after the beginning of the pulse, some data is to be returned. The windows are defined by a tuple of two lists, where the first gives the point after the pulse started of when the measurement should start in ns. The second give the duration of this window in ns. One can specify multiple regions for one window by adding multiple entries into these lists. (Here the naming might not be consistant engough. Occationally the word *mask* is used.)\n",
    "\n",
    "It is noteworthy that, in the current qupulse implementation, the point in them when a trigger signal is send to the measurement device has the managed by the user and is not checked to be at the correct point in time. So per default this signal is expected to be send out at the beginning of the pulse, and then the measurement equpment will measure the cover all windows (the duration is extracted from the defined windows.). But one can play tricks with that. But one needs to be careful. "
   ]
  },
  {
   "cell_type": "code",
   "execution_count": 132,
   "id": "bc46a01c",
   "metadata": {},
   "outputs": [],
   "source": [
    "my_lockin.register_measurement_windows(program_name=\"test\", windows={\n",
    "        \"A\": (np.array([0, 3])*1, np.array([1, 10])*1), \n",
    "        \"many\": (np.array([0, 2, 4])*1e-3, np.array([1, 4, 6.1])*1e-3)\n",
    "    })"
   ]
  },
  {
   "cell_type": "code",
   "execution_count": 15,
   "id": "f45534ef",
   "metadata": {
    "scrolled": true
   },
   "outputs": [
    {
     "data": {
      "text/plain": [
       "{None: {'channel_mapping': {'R': {'demods/0/sample.R'},\n",
       "   'X': {'demods/0/sample.X'},\n",
       "   'Y': {'demods/0/sample.Y'},\n",
       "   'A': {'auxins/0/sample.AuxIn0.avg'},\n",
       "   'many': {'auxins/0/sample.AuxIn0.avg',\n",
       "    'demods/0/sample.R',\n",
       "    'demods/0/sample.X',\n",
       "    'demods/0/sample.Y'}}},\n",
       " 'test': {'windows': {'A': (array([0, 3]), array([ 1, 10])),\n",
       "   'many': (array([0.   , 0.002, 0.004]), array([0.001 , 0.004 , 0.0061]))},\n",
       "  'windows_from_start_max': {'A': 13, 'many': 0.0101},\n",
       "  'all_channels': {'auxins/0/sample.auxin0.avg',\n",
       "   'demods/0/sample.r',\n",
       "   'demods/0/sample.x',\n",
       "   'demods/0/sample.y'}}}"
      ]
     },
     "execution_count": 15,
     "metadata": {},
     "output_type": "execute_result"
    }
   ],
   "source": [
    "my_lockin.programs"
   ]
  },
  {
   "cell_type": "markdown",
   "id": "9a22699a",
   "metadata": {},
   "source": [
    "Ok, now that we have registered a program, we can delete it."
   ]
  },
  {
   "cell_type": "code",
   "execution_count": 16,
   "id": "eb3c0a0e",
   "metadata": {},
   "outputs": [],
   "source": [
    "my_lockin.delete_program(program_name=\"test\")"
   ]
  },
  {
   "cell_type": "code",
   "execution_count": 17,
   "id": "60fe5854",
   "metadata": {},
   "outputs": [
    {
     "data": {
      "text/plain": [
       "{None: {'channel_mapping': {'R': {'demods/0/sample.R'},\n",
       "   'X': {'demods/0/sample.X'},\n",
       "   'Y': {'demods/0/sample.Y'},\n",
       "   'A': {'auxins/0/sample.AuxIn0.avg'},\n",
       "   'many': {'auxins/0/sample.AuxIn0.avg',\n",
       "    'demods/0/sample.R',\n",
       "    'demods/0/sample.X',\n",
       "    'demods/0/sample.Y'}}}}"
      ]
     },
     "execution_count": 17,
     "metadata": {},
     "output_type": "execute_result"
    }
   ],
   "source": [
    "my_lockin.programs"
   ]
  },
  {
   "cell_type": "code",
   "execution_count": null,
   "id": "4955fbc2",
   "metadata": {},
   "outputs": [],
   "source": []
  },
  {
   "cell_type": "markdown",
   "id": "303053e3",
   "metadata": {},
   "source": [
    "## Defining a simple qupulse pulse with a measurement window."
   ]
  },
  {
   "cell_type": "markdown",
   "id": "a3bc5453",
   "metadata": {},
   "source": [
    "Now we will define a simple pulse.\n",
    "\n",
    "Here only the measurement related stuff is commented. Later things get more interesting again."
   ]
  },
  {
   "cell_type": "code",
   "execution_count": 18,
   "id": "37b55006",
   "metadata": {},
   "outputs": [],
   "source": [
    "from qupulse.pulses.plotting import plot"
   ]
  },
  {
   "cell_type": "code",
   "execution_count": 19,
   "id": "be93574e",
   "metadata": {},
   "outputs": [],
   "source": [
    "red_pulse = qupulse.pulses.TablePT({\"red\": [\n",
    "    (\"0*dt\", 0),\n",
    "    (\"1*dt\", 4, 'hold'),\n",
    "    (\"4*dt\", .5, 'linear'),\n",
    "    (\"5*dt\", 2, 'hold'),\n",
    "    (\"6*dt\", .5, 'hold'),\n",
    "    (\"15*dt\", .5, 'jump'),\n",
    "]})"
   ]
  },
  {
   "cell_type": "code",
   "execution_count": 20,
   "id": "1d42e3fc",
   "metadata": {},
   "outputs": [],
   "source": [
    "green_pulse = qupulse.pulses.SequencePT(*[\n",
    "    qupulse.pulses.FunctionPT(\".1\", \"6*dt\", channel=\"green\"),\n",
    "    qupulse.pulses.FunctionPT(\".1+(t/dt)**2*.9\", \"1*dt\", channel=\"green\"),\n",
    "    qupulse.pulses.FunctionPT(\"1\", \"1*dt\", channel=\"green\"),\n",
    "    qupulse.pulses.FunctionPT(\"1+sin((t/dt)*2*pi)*exp(-((t/dt)-2)**2)\", \"5*dt\", channel=\"green\"),\n",
    "    qupulse.pulses.FunctionPT(\"1\", \"1*dt\", channel=\"green\"),\n",
    "    qupulse.pulses.FunctionPT(\"0\", \"1*dt\", channel=\"green\"),\n",
    "]\n",
    ")"
   ]
  },
  {
   "cell_type": "code",
   "execution_count": 21,
   "id": "d2632242",
   "metadata": {},
   "outputs": [],
   "source": [
    "measured_pt = qupulse.pulses.PointPT([(\"0*dt\", 0), (\"0*dt\", 1), (\"15*dt\", 1), (\"15*dt\", 0)],\n",
    "                      channel_names=(\"trigger_out\",),\n",
    "                      measurements=[('A', \"dt*3\", \"dt*1.5\"), ('A', \"dt*12\", \"dt*3\"), ('R', \"dt*6.5\", \"dt*1.4\"), ('R', \"dt*14\", \"dt*1\"), ('T', \"dt*10\", \"dt*3\")])"
   ]
  },
  {
   "cell_type": "markdown",
   "id": "97c66abd",
   "metadata": {},
   "source": [
    "As one sees in the prior cell, one can also specify measurement windows with variables."
   ]
  },
  {
   "cell_type": "code",
   "execution_count": 22,
   "id": "ea1cdd4c",
   "metadata": {},
   "outputs": [
    {
     "name": "stderr",
     "output_type": "stream",
     "text": [
      "z:\\git\\qupulse\\qupulse\\pulses\\arithmetic_pulse_template.py:72: ImplicitAtomicityInArithmeticPT: ArithmeticAtomicPulseTemplate treats all operands as if they are atomic. You can silence this warning by passing `silent_atomic=True` or by ignoring this category.\n",
      "  category=ImplicitAtomicityInArithmeticPT)\n"
     ]
    }
   ],
   "source": [
    "combined_pulse = red_pulse+green_pulse+measured_pt"
   ]
  },
  {
   "cell_type": "code",
   "execution_count": 23,
   "id": "eb2ea77b",
   "metadata": {},
   "outputs": [
    {
     "name": "stdout",
     "output_type": "stream",
     "text": [
      "{'T', 'R', 'A'}\n",
      "[]\n",
      "set()\n"
     ]
    }
   ],
   "source": [
    "print(combined_pulse.measurement_names)\n",
    "print(combined_pulse.measurement_declarations)\n",
    "print(combined_pulse.measurement_parameters)"
   ]
  },
  {
   "cell_type": "code",
   "execution_count": 142,
   "id": "eeeee0ec",
   "metadata": {},
   "outputs": [
    {
     "name": "stderr",
     "output_type": "stream",
     "text": [
      "C:\\Users\\Surrey\\Miniconda3\\envs\\py37\\lib\\site-packages\\ipykernel_launcher.py:1: DeprecationWarning: This is only a hack until https://github.com/qutech/qupulse/issues/578 is resolved. Do not call this method directly\n",
      "  \"\"\"Entry point for launching an IPython kernel.\n"
     ]
    },
    {
     "data": {
      "text/plain": [
       "[('A', 300000000.0, 150000000.0),\n",
       " ('A', 1200000000.0, 300000000.0),\n",
       " ('R', 650000000.0, 140000000.0),\n",
       " ('R', 1400000000.0, 100000000.0),\n",
       " ('T', 1000000000.0, 300000000.0)]"
      ]
     },
     "execution_count": 142,
     "metadata": {},
     "output_type": "execute_result"
    }
   ],
   "source": [
    "combined_pulse.get_measurement_windows(parameters={\"dt\": 1e8}, measurement_mapping={\"A\":\"A\", \"R\":\"R\", \"T\":\"T\"})"
   ]
  },
  {
   "cell_type": "code",
   "execution_count": 25,
   "id": "d325087c",
   "metadata": {},
   "outputs": [
    {
     "data": {
      "image/png": "[encoded data removed]",
      "text/plain": [
       "<Figure size 432x288 with 1 Axes>"
      ]
     },
     "metadata": {
      "needs_background": "light"
     },
     "output_type": "display_data"
    }
   ],
   "source": [
    "plot(combined_pulse, sample_rate=1e-6, plot_measurements=combined_pulse.measurement_names, parameters={\"dt\": 1e8}) # combined_pulse.measurement_names\n",
    "plt.show()"
   ]
  },
  {
   "cell_type": "code",
   "execution_count": 26,
   "id": "70da8095",
   "metadata": {},
   "outputs": [],
   "source": [
    "idle_pulse = qupulse.pulses.TablePT({\"red\": [\n",
    "    (\"0*dt\", 0),\n",
    "    (\"5*dt\", 0),\n",
    "],\n",
    "                                     \"green\": [\n",
    "    (\"0*dt\", 0),\n",
    "    (\"5*dt\", 0),\n",
    "],\n",
    "                                     \"trigger_out\": [\n",
    "    (\"0*dt\", 0),\n",
    "    (\"5*dt\", 0),\n",
    "]})"
   ]
  },
  {
   "cell_type": "code",
   "execution_count": 27,
   "id": "20626e0f",
   "metadata": {},
   "outputs": [],
   "source": [
    "rep = qupulse.pulses.repetition_pulse_template.RepetitionPulseTemplate(\n",
    "    body=qupulse.pulses.SequencePT(combined_pulse, idle_pulse),\n",
    "    repetition_count=10\n",
    ")"
   ]
  },
  {
   "cell_type": "code",
   "execution_count": 28,
   "id": "62aab374",
   "metadata": {},
   "outputs": [
    {
     "data": {
      "image/png": "[encoded data removed]",
      "text/plain": [
       "<Figure size 432x288 with 1 Axes>"
      ]
     },
     "metadata": {
      "needs_background": "light"
     },
     "output_type": "display_data"
    }
   ],
   "source": [
    "plot(rep, sample_rate=1e-6, plot_measurements=combined_pulse.measurement_names, parameters={\"dt\": 1e8})\n",
    "plt.show()"
   ]
  },
  {
   "cell_type": "code",
   "execution_count": 138,
   "id": "d5c5f40f",
   "metadata": {},
   "outputs": [
    {
     "data": {
      "text/plain": [
       "{'A', 'R', 'T'}"
      ]
     },
     "execution_count": 138,
     "metadata": {},
     "output_type": "execute_result"
    }
   ],
   "source": [
    "rep.measurement_names"
   ]
  },
  {
   "cell_type": "code",
   "execution_count": 136,
   "id": "c547473f",
   "metadata": {},
   "outputs": [
    {
     "data": {
      "text/plain": [
       "[]"
      ]
     },
     "execution_count": 136,
     "metadata": {},
     "output_type": "execute_result"
    }
   ],
   "source": [
    "rep.get_measurement_windows(parameters={\"dt\": 1e8}, measurement_mapping={\"A\":\"A\", \"R\":\"R\", \"T\":\"T\"})"
   ]
  },
  {
   "cell_type": "markdown",
   "id": "3bd81101",
   "metadata": {},
   "source": [
    "(When writing this documentation the prior cell did not return the expected measurement windows, but an empty list. When compining that pulse and registering the program, the correct windows are written into the driver's memory.)"
   ]
  },
  {
   "cell_type": "markdown",
   "id": "b23c7772",
   "metadata": {},
   "source": [
    "For repetitions like this, all windows are defined in relation to the beginning of the total pulse, when one want to trigger that more elegently, which might be the case if there are long durations in which one might not want to measure, one might need to become a bit creative. One solution would be to only define the first set of measurement windows, then let the trigger trigger the lock-in on every iteration of the pulse's loop, and then when defining the trigger settings later, allow for multiple triggers. Then the driver takes the windows with respect to the correpsonding trigger. "
   ]
  },
  {
   "cell_type": "markdown",
   "id": "3d4b0951",
   "metadata": {},
   "source": [
    "## Execution\n",
    "\n",
    "1. map output channels to dummy instrument\n",
    "2. arm scan and see if everything works"
   ]
  },
  {
   "cell_type": "code",
   "execution_count": 29,
   "id": "031fd70e",
   "metadata": {},
   "outputs": [],
   "source": [
    "from qupulse.utils.types import TimeType"
   ]
  },
  {
   "cell_type": "code",
   "execution_count": 30,
   "id": "f0143c3d",
   "metadata": {},
   "outputs": [],
   "source": [
    "from qupulse.hardware.awgs.virtual import VirtualAWG"
   ]
  },
  {
   "cell_type": "code",
   "execution_count": 31,
   "id": "843fb93c",
   "metadata": {},
   "outputs": [],
   "source": [
    "from qupulse.hardware.setup import HardwareSetup, MeasurementMask, PlaybackChannel"
   ]
  },
  {
   "cell_type": "markdown",
   "id": "d4514092",
   "metadata": {},
   "source": [
    "As we also have a pulse, that contains some outputs, a virtual awg is used."
   ]
  },
  {
   "cell_type": "code",
   "execution_count": 32,
   "id": "7df89611",
   "metadata": {},
   "outputs": [],
   "source": [
    "my_awg = VirtualAWG(\"awg\", channels=3)"
   ]
  },
  {
   "cell_type": "markdown",
   "id": "4146568f",
   "metadata": {},
   "source": [
    "The ```HardwareSetup``` is the central qupulse object that contains all devices for this setup. "
   ]
  },
  {
   "cell_type": "code",
   "execution_count": 33,
   "id": "21afd2d6",
   "metadata": {},
   "outputs": [],
   "source": [
    "setup = HardwareSetup()"
   ]
  },
  {
   "cell_type": "markdown",
   "id": "dd09864c",
   "metadata": {},
   "source": [
    "We now register the link between the measurement window names and the driverse measurement window names. Similarly for the playback channels (i.e. outputs). "
   ]
  },
  {
   "cell_type": "code",
   "execution_count": 34,
   "id": "2e4e2b0b",
   "metadata": {},
   "outputs": [],
   "source": [
    "for n in my_lockin.programs[None][\"channel_mapping\"].keys():\n",
    "    setup.set_measurement(f\"{n}\", MeasurementMask(my_lockin, n))"
   ]
  },
  {
   "cell_type": "code",
   "execution_count": 35,
   "id": "632a30f6",
   "metadata": {},
   "outputs": [],
   "source": [
    "for i, c in enumerate([\"red\", \"green\", \"trigger_out\"]):\n",
    "    setup.set_channel(f\"{c}\", PlaybackChannel(my_awg, i))"
   ]
  },
  {
   "cell_type": "markdown",
   "id": "8b1d4e21",
   "metadata": {},
   "source": [
    "Now the pulses are compiled into programs. This contains the measurement mapping and the parameters. When a measurment window is mapped to ```None``` it is omitted."
   ]
  },
  {
   "cell_type": "code",
   "execution_count": 67,
   "id": "6abf0e7f",
   "metadata": {},
   "outputs": [],
   "source": [
    "test_program = combined_pulse.create_program(measurement_mapping={\"A\":\"A\", \"R\":\"R\", \"T\":\"X\"}, parameters={\"dt\": 1e6})"
   ]
  },
  {
   "cell_type": "code",
   "execution_count": 139,
   "id": "b3d52873",
   "metadata": {},
   "outputs": [],
   "source": [
    "test_rep_program = rep.create_program(measurement_mapping={\"A\":\"A\", \"R\":\"R\", \"T\":\"X\"}, parameters={\"dt\": 1e6})"
   ]
  },
  {
   "cell_type": "code",
   "execution_count": 112,
   "id": "e35f0e2f",
   "metadata": {},
   "outputs": [],
   "source": [
    "test_program_single = combined_pulse.create_program(measurement_mapping={\"A\":None, \"R\":\"R\", \"T\":None}, parameters={\"dt\": 1e6})"
   ]
  },
  {
   "cell_type": "markdown",
   "id": "965a3992",
   "metadata": {},
   "source": [
    "a helper function for plotting the returned data. The measured data can also be returned in a raw format, where the data is not cropped to the measurement windows. For that call ```my_lockin.measure_program(return_raw=True)```."
   ]
  },
  {
   "cell_type": "code",
   "execution_count": 37,
   "id": "7f811d07",
   "metadata": {},
   "outputs": [],
   "source": [
    "def plot_windows(data):\n",
    "    for j, w in enumerate(data.keys()):\n",
    "        for i, c in enumerate(data[w].keys()):\n",
    "            for e in data[w][c]:\n",
    "                plt.plot(e[\"time\"].values.T, e.values.T, color=f\"C{j}\")\n",
    "                plt.scatter(e[\"time\"].values.T, e.values.T, color=f\"C{j}\", marker=\"x\", alpha=.1)\n",
    "    plt.show()"
   ]
  },
  {
   "cell_type": "code",
   "execution_count": 38,
   "id": "176c260b",
   "metadata": {},
   "outputs": [],
   "source": [
    "import numpy as np"
   ]
  },
  {
   "cell_type": "markdown",
   "id": "564e8107",
   "metadata": {},
   "source": [
    "Now we will register the trigger settings for the lock-in. They are program specific. \n",
    "Also the devices name is added to the ```trigger_input``` strings. \n",
    "The zurich instruments lock-ins have a funny naming convention, where the AUXIN inputs start at 0 and the TRUGINs at 1.\n",
    "\n",
    "Inside the driver, some input specific things are set regarding if certain strings are present in the ```trigger_input``` path. The parameters in ```other_settings``` are set after all the other trigger specific things and thus can be used to set more things. If the count is set to np.inf, the aquesition will only finish, if ```my_lockin.stop_acquisition()``` is called. The ```measure_program``` can be called such that is waits for the daq to finish the acquesition, or to already read what had been recorded, or to return partial measurements.\n",
    "\n",
    "For further informations, see to the docstring of that function."
   ]
  },
  {
   "cell_type": "code",
   "execution_count": 143,
   "id": "d0c8669f",
   "metadata": {},
   "outputs": [],
   "source": [
    "my_lockin.register_trigger_settings(program_name=\"test\",\n",
    "                                   trigger_input=f\"demods/0/sample.AuxIn1\", # here AuxInN referese to the printer label N+1\n",
    "                                   edge=\"rising\",\n",
    "                                   trigger_count=3, # this defines the number of triggers to capture in one element (i.e. rows)\n",
    "                                   level=.5, # this sets the trigger level\n",
    "                                   measurement_count=np.inf, # this defined the number of rounds that are to be measured (e.g. how often the \"single\" button should be pressed)\n",
    "                                   other_settings={\"holdoff/time\": 1e-3} # this sets the duration for which new triggers are ignored\n",
    "                                   )\n",
    "\n",
    "# this will overwrite the earlier set settings\n",
    "my_lockin.register_trigger_settings(program_name=\"test\",\n",
    "                                   trigger_input=f\"demods/0/sample.TrigIn1\", # here TrigInN referrers to the printer label N\n",
    "                                   edge=\"rising\",\n",
    "                                   trigger_count=3,\n",
    "                                   level=.5,\n",
    "                                   measurement_count=3,\n",
    "                                   other_settings={\"holdoff/time\": 1e-3}\n",
    "                                   )"
   ]
  },
  {
   "cell_type": "markdown",
   "id": "5e6a3516",
   "metadata": {},
   "source": [
    "And now the program is going to be registered. The run_callback is the function call that is called when the ```setup.run_program(program_name_goes_here)``` function is called. If one want to trigger the lockin via software, one can call ```my_lockin.force_trigger()``` here."
   ]
  },
  {
   "cell_type": "code",
   "execution_count": 69,
   "id": "f069c321",
   "metadata": {
    "scrolled": true
   },
   "outputs": [],
   "source": [
    "# setup.register_program('test', test_program, run_callback=lambda *a, **b: my_lockin.force_trigger(), update=True)\n",
    "setup.register_program('test', test_program, run_callback=lambda *a, **b: None, update=True)"
   ]
  },
  {
   "cell_type": "code",
   "execution_count": 140,
   "id": "b037496c",
   "metadata": {},
   "outputs": [],
   "source": [
    "setup.register_program('test_rep', test_rep_program, run_callback=lambda *a, **b: None, update=True)"
   ]
  },
  {
   "cell_type": "markdown",
   "id": "9c3f8ac9",
   "metadata": {},
   "source": [
    "And after that call, the lock-in is armed and the settings should have been updated. If one does not want the settings to update every time, one can set the ```self.force_update_on_arm``` field to ```False```. Within the update call, the sample rate is queried and the window dimensions are updated. Only later in the read call the information is applied and the data is then cropped (but it is not checked if the selected program is the one corresponding to the retrived data)."
   ]
  },
  {
   "cell_type": "code",
   "execution_count": 141,
   "id": "d38e253f",
   "metadata": {
    "scrolled": false
   },
   "outputs": [
    {
     "data": {
      "text/plain": [
       "{'windows': {'X': (array([1.0e+07, 3.0e+07, 5.0e+07, 7.0e+07, 9.0e+07, 1.1e+08, 1.3e+08,\n",
       "          1.5e+08, 1.7e+08, 1.9e+08]),\n",
       "   array([3000000., 3000000., 3000000., 3000000., 3000000., 3000000.,\n",
       "          3000000., 3000000., 3000000., 3000000.])),\n",
       "  'R': (array([6.500e+06, 1.400e+07, 2.650e+07, 3.400e+07, 4.650e+07, 5.400e+07,\n",
       "          6.650e+07, 7.400e+07, 8.650e+07, 9.400e+07, 1.065e+08, 1.140e+08,\n",
       "          1.265e+08, 1.340e+08, 1.465e+08, 1.540e+08, 1.665e+08, 1.740e+08,\n",
       "          1.865e+08, 1.940e+08]),\n",
       "   array([1400000., 1000000., 1400000., 1000000., 1400000., 1000000.,\n",
       "          1400000., 1000000., 1400000., 1000000., 1400000., 1000000.,\n",
       "          1400000., 1000000., 1400000., 1000000., 1400000., 1000000.,\n",
       "          1400000., 1000000.])),\n",
       "  'A': (array([3.00e+06, 1.20e+07, 2.30e+07, 3.20e+07, 4.30e+07, 5.20e+07,\n",
       "          6.30e+07, 7.20e+07, 8.30e+07, 9.20e+07, 1.03e+08, 1.12e+08,\n",
       "          1.23e+08, 1.32e+08, 1.43e+08, 1.52e+08, 1.63e+08, 1.72e+08,\n",
       "          1.83e+08, 1.92e+08]),\n",
       "   array([1500000., 3000000., 1500000., 3000000., 1500000., 3000000.,\n",
       "          1500000., 3000000., 1500000., 3000000., 1500000., 3000000.,\n",
       "          1500000., 3000000., 1500000., 3000000., 1500000., 3000000.,\n",
       "          1500000., 3000000.]))},\n",
       " 'windows_from_start_max': {'X': 193000000.0,\n",
       "  'R': 195000000.0,\n",
       "  'A': 195000000.0},\n",
       " 'all_channels': {'auxins/0/sample.auxin0.avg',\n",
       "  'demods/0/sample.r',\n",
       "  'demods/0/sample.x'}}"
      ]
     },
     "execution_count": 141,
     "metadata": {},
     "output_type": "execute_result"
    }
   ],
   "source": [
    "my_lockin.programs[\"test_rep\"]"
   ]
  },
  {
   "cell_type": "markdown",
   "id": "710102b3",
   "metadata": {},
   "source": [
    "As also incomplete data is returned, when the driver asks the lock-in for new data and the lock-in (or the data server) deletes the returned data, some form of memory is needed to peace data from different calles together. This is done in the ```my_lockin.read_memory``` field. If the programs are changed, and as things are not tracked in that regard, one might need to clear that ever so ofter. This can be done using ```my_lockin.clear_memory()```."
   ]
  },
  {
   "cell_type": "code",
   "execution_count": 89,
   "id": "060a1a4c",
   "metadata": {},
   "outputs": [],
   "source": [
    "my_lockin.read_memory = {}"
   ]
  },
  {
   "cell_type": "markdown",
   "id": "0ecd69a6",
   "metadata": {},
   "source": [
    "And now the program is run:"
   ]
  },
  {
   "cell_type": "code",
   "execution_count": 88,
   "id": "cf3ce29e",
   "metadata": {},
   "outputs": [
    {
     "name": "stderr",
     "output_type": "stream",
     "text": [
      "z:\\git\\qupulse\\qupulse\\hardware\\dacs\\mfli.py:399: UserWarning: The channel auxins/0/sample.auxin0.avg does not have an interface for enabling it. If needed, this can be done using the web interface.\n",
      "  warnings.warn(f\"The channel {c} does not have an interface for enabling it. If needed, this can be done using the web interface.\")\n"
     ]
    },
    {
     "name": "stdout",
     "output_type": "stream",
     "text": [
      "sample rates: [107142.859375, 107142.859375, None]\n",
      "Will record 1608 per row samples for 0.015000000001000002s!\n",
      "3 row(s) will be recorded.\n",
      "the following trigger settings will be used: {'trigger_input': '/dev3442/demods/0/sample.TrigIn1', 'edge': 'rising', 'trigger_count': 3, 'level': 0.5, 'delay': -0.001, 'post_delay': 0.001, 'endless': False, 'count': 3, 'other_settings': {'holdoff/time': 1e-08}}\n",
      "MFLI returns a total record time of 0.003752s\n"
     ]
    }
   ],
   "source": [
    "setup.run_program(\"test\")"
   ]
  },
  {
   "cell_type": "markdown",
   "id": "358f204c",
   "metadata": {},
   "source": [
    "For testing purposes the following two cells contain different ways to trigger things. The first using force_trigger calls. And the second using the auxilery output, which is connected to the earlier specified trigger input using a coaxial cable."
   ]
  },
  {
   "cell_type": "code",
   "execution_count": 79,
   "id": "1505ae0a",
   "metadata": {},
   "outputs": [],
   "source": [
    "for _ in range(3*3):\n",
    "    my_lockin.force_trigger(None)\n",
    "    time.sleep(2)\n"
   ]
  },
  {
   "cell_type": "code",
   "execution_count": 98,
   "id": "8504fda1",
   "metadata": {},
   "outputs": [],
   "source": [
    "for _ in range(3*3):\n",
    "    my_lockin.api_session.setDouble(f\"/{my_lockin.serial}/auxouts/0/offset\", 1)\n",
    "    time.sleep(1)\n",
    "    my_lockin.api_session.setDouble(f\"/{my_lockin.serial}/auxouts/0/offset\", 0)\n",
    "    time.sleep(3)"
   ]
  },
  {
   "cell_type": "markdown",
   "id": "5ae3314c",
   "metadata": {},
   "source": [
    "The ```stop_acquisition()``` is called to stop the acquisition when the count in the trigger_count configuration is set to np.inf."
   ]
  },
  {
   "cell_type": "code",
   "execution_count": 85,
   "id": "8ab20ee5",
   "metadata": {},
   "outputs": [],
   "source": [
    "my_lockin.stop_acquisition()"
   ]
  },
  {
   "cell_type": "markdown",
   "id": "cf3104cc",
   "metadata": {},
   "source": [
    "And then we read some data back from the device."
   ]
  },
  {
   "cell_type": "code",
   "execution_count": 99,
   "id": "8d97dfac",
   "metadata": {
    "scrolled": true
   },
   "outputs": [
    {
     "name": "stderr",
     "output_type": "stream",
     "text": [
      "z:\\git\\qupulse\\qupulse\\hardware\\dacs\\mfli.py:740: UserWarning: Parsing some data did not work. This might fix itself later, when the missing data is retrieved from the device. If not, clearing the memory (i.e. self.clear_memory()), resetting the daq_module (i.e. self.reset_daq_module()), or setting the field to the selected program (i.e., self.currently_set_program=None) to None and then rearming the original program might work. For debugging purposes, one might want to call the measure function with the return_raw=True parameter.\n",
      "  pass\n",
      "z:\\git\\qupulse\\qupulse\\hardware\\dacs\\mfli.py:740: UserWarning: Parsing some data did not work. This might fix itself later, when the missing data is retrieved from the device. If not, clearing the memory (i.e. self.clear_memory()), resetting the daq_module (i.e. self.reset_daq_module()), or setting the field to the selected program (i.e., self.currently_set_program=None) to None and then rearming the original program might work. For debugging purposes, one might want to call the measure function with the return_raw=True parameter.\n",
      "  pass\n"
     ]
    },
    {
     "data": {
      "image/png": "[encoded data removed]",
      "text/plain": [
       "<Figure size 432x288 with 1 Axes>"
      ]
     },
     "metadata": {
      "needs_background": "light"
     },
     "output_type": "display_data"
    }
   ],
   "source": [
    "data = my_lockin.measure_program(return_raw=False)#(wait=False, fail_if_incomplete=False)\n",
    "if data is not None:\n",
    "    for d in data:\n",
    "        plot_windows(d)\n",
    "else:\n",
    "    print(\"RETURNED NONE\")"
   ]
  },
  {
   "cell_type": "markdown",
   "id": "1ec2e091",
   "metadata": {},
   "source": [
    "and here a different measurement, left in this notebook."
   ]
  },
  {
   "cell_type": "code",
   "execution_count": 111,
   "id": "066a4fe1",
   "metadata": {},
   "outputs": [
    {
     "name": "stderr",
     "output_type": "stream",
     "text": [
      "z:\\git\\qupulse\\qupulse\\hardware\\dacs\\mfli.py:684: UserWarning: No data has been recorded!\n",
      "  warnings.warn(f\"No data has been recorded!\")\n",
      "z:\\git\\qupulse\\qupulse\\hardware\\dacs\\mfli.py:596: UserWarning: The received data for channel auxins/0/sample.auxin0.avg is empty.\n",
      "  warnings.warn(f\"The received data for channel {_cn} is empty.\")\n",
      "z:\\git\\qupulse\\qupulse\\hardware\\dacs\\mfli.py:596: UserWarning: The received data for channel auxins/0/sample.auxin0.avg is empty.\n",
      "  warnings.warn(f\"The received data for channel {_cn} is empty.\")\n"
     ]
    },
    {
     "data": {
      "image/png": "[encoded data removed]",
      "text/plain": [
       "<Figure size 432x288 with 1 Axes>"
      ]
     },
     "metadata": {
      "needs_background": "light"
     },
     "output_type": "display_data"
    },
    {
     "data": {
      "image/png": "[encoded data removed]",
      "text/plain": [
       "<Figure size 432x288 with 1 Axes>"
      ]
     },
     "metadata": {
      "needs_background": "light"
     },
     "output_type": "display_data"
    }
   ],
   "source": [
    "data = my_lockin.measure_program(return_raw=False)#(wait=False, fail_if_incomplete=False)\n",
    "if data is not None:\n",
    "    for d in data:\n",
    "        plot_windows(d)\n",
    "else:\n",
    "    print(\"RETURNED NONE\")"
   ]
  },
  {
   "cell_type": "code",
   "execution_count": 108,
   "id": "e7af816c",
   "metadata": {},
   "outputs": [
    {
     "data": {
      "text/plain": [
       "{'/dev3442/auxins/0/sample.auxin0.avg': [<xarray.DataArray '/dev3442/auxins/0/sample.auxin0.avg' (row: 3, col: 1608)>\n",
       "  array([[nan, nan, nan, ..., nan, nan, nan],\n",
       "         [nan, nan, nan, ..., nan, nan, nan],\n",
       "         [nan, nan, nan, ..., nan, nan, nan]])\n",
       "  Coordinates:\n",
       "      time     (row, col) float64 0.0 0.0 0.0 0.0 0.0 0.0 ... 0.0 0.0 0.0 0.0 0.0\n",
       "  Dimensions without coordinates: row, col\n",
       "  Attributes:\n",
       "      systemtime:        [1664887609699785]\n",
       "      createdtimestamp:  [1166080844523]\n",
       "      changedtimestamp:  [1167529609323]\n",
       "      flags:             [313]\n",
       "      moduleflags:       [0]\n",
       "      chunksizebytes:    [0]\n",
       "      name:              004 14:46:49.6996\n",
       "      status:            [0]\n",
       "      groupindex:        [0]\n",
       "      color:             [0]\n",
       "      activerow:         [2]\n",
       "      triggernumber:     [0]\n",
       "      gridrows:          [3]\n",
       "      gridcols:          [1608]\n",
       "      gridmode:          [4]\n",
       "      gridoperation:     [1]\n",
       "      griddirection:     [0]\n",
       "      gridrepetitions:   [1]\n",
       "      gridcoldelta:      [9.33333333e-06]\n",
       "      gridcoloffset:     [-0.001]\n",
       "      gridrowdelta:      [1.]\n",
       "      gridrowoffset:     [0.]\n",
       "      bandwidth:         [nan]\n",
       "      center:            [0.]\n",
       "      nenbw:             [nan],\n",
       "  <xarray.DataArray '/dev3442/auxins/0/sample.auxin0.avg' (row: 3, col: 1608)>\n",
       "  array([[nan, nan, nan, ..., nan, nan, nan],\n",
       "         [nan, nan, nan, ..., nan, nan, nan],\n",
       "         [nan, nan, nan, ..., nan, nan, nan]])\n",
       "  Coordinates:\n",
       "      time     (row, col) float64 0.0 0.0 0.0 0.0 0.0 0.0 ... 0.0 0.0 0.0 0.0 0.0\n",
       "  Dimensions without coordinates: row, col\n",
       "  Attributes:\n",
       "      systemtime:        [1664887657586630]\n",
       "      createdtimestamp:  [1168331979003]\n",
       "      changedtimestamp:  [1180144016443]\n",
       "      flags:             [313]\n",
       "      moduleflags:       [0]\n",
       "      chunksizebytes:    [0]\n",
       "      name:              005 14:47:37.5862\n",
       "      status:            [0]\n",
       "      groupindex:        [0]\n",
       "      color:             [0]\n",
       "      activerow:         [2]\n",
       "      triggernumber:     [1]\n",
       "      gridrows:          [3]\n",
       "      gridcols:          [1608]\n",
       "      gridmode:          [4]\n",
       "      gridoperation:     [1]\n",
       "      griddirection:     [0]\n",
       "      gridrepetitions:   [1]\n",
       "      gridcoldelta:      [9.33333333e-06]\n",
       "      gridcoloffset:     [-0.001]\n",
       "      gridrowdelta:      [1.]\n",
       "      gridrowoffset:     [0.]\n",
       "      bandwidth:         [nan]\n",
       "      center:            [0.]\n",
       "      nenbw:             [nan]],\n",
       " '/dev3442/demods/0/sample.r': [<xarray.DataArray '/dev3442/demods/0/sample.r' (row: 3, col: 1608)>\n",
       "  array([[1.38888485e-07, 1.43719805e-07, 1.48582047e-07, ...,\n",
       "          4.34784579e-07, 4.33234794e-07, 4.31670555e-07],\n",
       "         [4.04857345e-07, 4.03119455e-07, 4.01376717e-07, ...,\n",
       "          4.97918708e-07, 5.00165983e-07, 5.02359520e-07],\n",
       "         [4.41924624e-07, 4.39022641e-07, 4.36096277e-07, ...,\n",
       "          7.97933342e-07, 7.96385363e-07, 7.94804775e-07]])\n",
       "  Coordinates:\n",
       "      time     (row, col) float64 1.943e+13 1.943e+13 ... 1.946e+13 1.946e+13\n",
       "  Dimensions without coordinates: row, col\n",
       "  Attributes:\n",
       "      systemtime:        [1664887609699917]\n",
       "      createdtimestamp:  [1166080844523]\n",
       "      changedtimestamp:  [1167529609323]\n",
       "      flags:             [1849]\n",
       "      moduleflags:       [0]\n",
       "      chunksizebytes:    [0]\n",
       "      name:              004 14:46:49.6996\n",
       "      status:            [0]\n",
       "      groupindex:        [0]\n",
       "      color:             [0]\n",
       "      activerow:         [2]\n",
       "      triggernumber:     [0]\n",
       "      gridrows:          [3]\n",
       "      gridcols:          [1608]\n",
       "      gridmode:          [4]\n",
       "      gridoperation:     [1]\n",
       "      griddirection:     [0]\n",
       "      gridrepetitions:   [1]\n",
       "      gridcoldelta:      [9.33333333e-06]\n",
       "      gridcoloffset:     [-0.001]\n",
       "      gridrowdelta:      [1.]\n",
       "      gridrowoffset:     [0.]\n",
       "      bandwidth:         [nan]\n",
       "      center:            [0.]\n",
       "      nenbw:             [nan],\n",
       "  <xarray.DataArray '/dev3442/demods/0/sample.r' (row: 3, col: 1608)>\n",
       "  array([[3.63043354e-07, 3.63724650e-07, 3.64442278e-07, ...,\n",
       "          1.84079775e-07, 1.83911762e-07, 1.83743967e-07],\n",
       "         [3.83388020e-07, 3.82172869e-07, 3.80939033e-07, ...,\n",
       "          4.64023112e-07, 4.63896600e-07, 4.63726540e-07],\n",
       "         [6.12628005e-07, 6.12437061e-07, 6.12181524e-07, ...,\n",
       "          5.86469886e-07, 5.87969943e-07, 5.89465841e-07]])\n",
       "  Coordinates:\n",
       "      time     (row, col) float64 1.947e+13 1.947e+13 ... 1.967e+13 1.967e+13\n",
       "  Dimensions without coordinates: row, col\n",
       "  Attributes:\n",
       "      systemtime:        [1664887657586707]\n",
       "      createdtimestamp:  [1168331979003]\n",
       "      changedtimestamp:  [1180144016443]\n",
       "      flags:             [1849]\n",
       "      moduleflags:       [0]\n",
       "      chunksizebytes:    [0]\n",
       "      name:              005 14:47:37.5862\n",
       "      status:            [0]\n",
       "      groupindex:        [0]\n",
       "      color:             [0]\n",
       "      activerow:         [2]\n",
       "      triggernumber:     [1]\n",
       "      gridrows:          [3]\n",
       "      gridcols:          [1608]\n",
       "      gridmode:          [4]\n",
       "      gridoperation:     [1]\n",
       "      griddirection:     [0]\n",
       "      gridrepetitions:   [1]\n",
       "      gridcoldelta:      [9.33333333e-06]\n",
       "      gridcoloffset:     [-0.001]\n",
       "      gridrowdelta:      [1.]\n",
       "      gridrowoffset:     [0.]\n",
       "      bandwidth:         [nan]\n",
       "      center:            [0.]\n",
       "      nenbw:             [nan]],\n",
       " '/dev3442/demods/0/sample.x': [<xarray.DataArray '/dev3442/demods/0/sample.x' (row: 3, col: 1608)>\n",
       "  array([[-1.32408364e-07, -1.37151777e-07, -1.41934653e-07, ...,\n",
       "          -3.26519959e-08, -3.30352718e-08, -3.34245270e-08],\n",
       "         [ 4.01130200e-07,  3.99142667e-07,  3.97138989e-07, ...,\n",
       "          -4.93793274e-07, -4.95846580e-07, -4.97835310e-07],\n",
       "         [ 2.59233217e-07,  2.56886923e-07,  2.54549598e-07, ...,\n",
       "          -7.81379937e-07, -7.80011266e-07, -7.78618677e-07]])\n",
       "  Coordinates:\n",
       "      time     (row, col) float64 1.943e+13 1.943e+13 ... 1.946e+13 1.946e+13\n",
       "  Dimensions without coordinates: row, col\n",
       "  Attributes:\n",
       "      systemtime:        [1664887609699837]\n",
       "      createdtimestamp:  [1166080844523]\n",
       "      changedtimestamp:  [1167529609323]\n",
       "      flags:             [1849]\n",
       "      moduleflags:       [0]\n",
       "      chunksizebytes:    [0]\n",
       "      name:              004 14:46:49.6996\n",
       "      status:            [0]\n",
       "      groupindex:        [0]\n",
       "      color:             [0]\n",
       "      activerow:         [2]\n",
       "      triggernumber:     [0]\n",
       "      gridrows:          [3]\n",
       "      gridcols:          [1608]\n",
       "      gridmode:          [4]\n",
       "      gridoperation:     [1]\n",
       "      griddirection:     [0]\n",
       "      gridrepetitions:   [1]\n",
       "      gridcoldelta:      [9.33333333e-06]\n",
       "      gridcoloffset:     [-0.001]\n",
       "      gridrowdelta:      [1.]\n",
       "      gridrowoffset:     [0.]\n",
       "      bandwidth:         [nan]\n",
       "      center:            [0.]\n",
       "      nenbw:             [nan],\n",
       "  <xarray.DataArray '/dev3442/demods/0/sample.x' (row: 3, col: 1608)>\n",
       "  array([[ 1.51871723e-07,  1.49524831e-07,  1.47228763e-07, ...,\n",
       "           9.08997651e-08,  9.05643240e-08,  9.01774605e-08],\n",
       "         [-2.19322299e-07, -2.20265839e-07, -2.21161545e-07, ...,\n",
       "          -3.30884282e-07, -3.29631609e-07, -3.28349638e-07],\n",
       "         [-5.72672766e-07, -5.73008805e-07, -5.73258741e-07, ...,\n",
       "           5.86422265e-07,  5.87938626e-07,  5.89447214e-07]])\n",
       "  Coordinates:\n",
       "      time     (row, col) float64 1.947e+13 1.947e+13 ... 1.967e+13 1.967e+13\n",
       "  Dimensions without coordinates: row, col\n",
       "  Attributes:\n",
       "      systemtime:        [1664887657586670]\n",
       "      createdtimestamp:  [1168331979003]\n",
       "      changedtimestamp:  [1180144016443]\n",
       "      flags:             [1849]\n",
       "      moduleflags:       [0]\n",
       "      chunksizebytes:    [0]\n",
       "      name:              005 14:47:37.5862\n",
       "      status:            [0]\n",
       "      groupindex:        [0]\n",
       "      color:             [0]\n",
       "      activerow:         [2]\n",
       "      triggernumber:     [1]\n",
       "      gridrows:          [3]\n",
       "      gridcols:          [1608]\n",
       "      gridmode:          [4]\n",
       "      gridoperation:     [1]\n",
       "      griddirection:     [0]\n",
       "      gridrepetitions:   [1]\n",
       "      gridcoldelta:      [9.33333333e-06]\n",
       "      gridcoloffset:     [-0.001]\n",
       "      gridrowdelta:      [1.]\n",
       "      gridrowoffset:     [0.]\n",
       "      bandwidth:         [nan]\n",
       "      center:            [0.]\n",
       "      nenbw:             [nan]]}"
      ]
     },
     "execution_count": 108,
     "metadata": {},
     "output_type": "execute_result"
    }
   ],
   "source": [
    "my_lockin.read_memory"
   ]
  },
  {
   "cell_type": "code",
   "execution_count": null,
   "id": "b715a334",
   "metadata": {},
   "outputs": [],
   "source": []
  },
  {
   "cell_type": "markdown",
   "id": "b0b4daa3",
   "metadata": {},
   "source": [
    "And now, let's look at again a different program"
   ]
  },
  {
   "cell_type": "code",
   "execution_count": 116,
   "id": "1ac65d7f",
   "metadata": {},
   "outputs": [],
   "source": [
    "my_lockin.clear_memory()\n",
    "my_lockin.reset_daq_module()"
   ]
  },
  {
   "cell_type": "code",
   "execution_count": 117,
   "id": "fe7ace96",
   "metadata": {
    "scrolled": true
   },
   "outputs": [],
   "source": [
    "# setup.register_program('test', test_program, run_callback=lambda *a, **b: my_lockin.force_trigger(None), update=True)\n",
    "setup.register_program('test2', test_program_single, run_callback=lambda *a, **b: None, update=True)"
   ]
  },
  {
   "cell_type": "code",
   "execution_count": 118,
   "id": "be1c9ade",
   "metadata": {},
   "outputs": [],
   "source": [
    "my_lockin.register_trigger_settings(program_name=\"test2\",\n",
    "                                   trigger_input=f\"demods/0/sample.TrigIn1\", # here TrigInN referese to the printer label N\n",
    "                                   edge=\"rising\",\n",
    "                                   trigger_count=3,\n",
    "                                   level=.5,\n",
    "                                   count=3,\n",
    "                                   other_settings={\"holdoff/time\": 1e-3}\n",
    "                                   )"
   ]
  },
  {
   "cell_type": "code",
   "execution_count": 119,
   "id": "58dee40c",
   "metadata": {},
   "outputs": [
    {
     "name": "stdout",
     "output_type": "stream",
     "text": [
      "sample rates: [107142.859375]\n",
      "Will record 1608 per row samples for 0.015000000001000002s!\n",
      "3 row(s) will be recorded.\n",
      "the following trigger settings will be used: {'trigger_input': '/dev3442/demods/0/sample.TrigIn1', 'edge': 'rising', 'trigger_count': 3, 'level': 0.5, 'delay': -0.001, 'post_delay': 0.001, 'endless': False, 'count': 3, 'other_settings': {'holdoff/time': 0.001}}\n",
      "MFLI returns a duration of 0.01s\n"
     ]
    }
   ],
   "source": [
    "setup.run_program(\"test2\")"
   ]
  },
  {
   "cell_type": "code",
   "execution_count": 129,
   "id": "dc4dc54f",
   "metadata": {},
   "outputs": [],
   "source": [
    "for _ in range(3*3):\n",
    "    my_lockin.api_session.setDouble(f\"/{my_lockin.serial}/auxouts/0/offset\", 1)\n",
    "    time.sleep(1)\n",
    "    my_lockin.api_session.setDouble(f\"/{my_lockin.serial}/auxouts/0/offset\", 0)\n",
    "    time.sleep(3)"
   ]
  },
  {
   "cell_type": "code",
   "execution_count": 130,
   "id": "d206d097",
   "metadata": {},
   "outputs": [
    {
     "data": {
      "image/png": "[encoded data removed]",
      "text/plain": [
       "<Figure size 432x288 with 1 Axes>"
      ]
     },
     "metadata": {
      "needs_background": "light"
     },
     "output_type": "display_data"
    },
    {
     "data": {
      "image/png": "[encoded data removed]",
      "text/plain": [
       "<Figure size 432x288 with 1 Axes>"
      ]
     },
     "metadata": {
      "needs_background": "light"
     },
     "output_type": "display_data"
    },
    {
     "data": {
      "image/png": "[encoded data removed]",
      "text/plain": [
       "<Figure size 432x288 with 1 Axes>"
      ]
     },
     "metadata": {
      "needs_background": "light"
     },
     "output_type": "display_data"
    }
   ],
   "source": [
    "data = my_lockin.measure_program(return_raw=False)#(wait=False, fail_if_incomplete=False)\n",
    "if data is not None:\n",
    "    for d in data:\n",
    "        plot_windows(d)\n",
    "else:\n",
    "    print(\"RETURNED NONE\")"
   ]
  },
  {
   "cell_type": "code",
   "execution_count": null,
   "id": "94e01138",
   "metadata": {},
   "outputs": [],
   "source": []
  },
  {
   "cell_type": "code",
   "execution_count": null,
   "id": "eb3982ba",
   "metadata": {},
   "outputs": [],
   "source": []
  },
  {
   "cell_type": "code",
   "execution_count": null,
   "id": "0c875430",
   "metadata": {},
   "outputs": [],
   "source": []
  },
  {
   "cell_type": "code",
   "execution_count": null,
   "id": "4ae8bf57",
   "metadata": {},
   "outputs": [],
   "source": []
  },
  {
   "cell_type": "code",
   "execution_count": null,
   "id": "bef6b06c",
   "metadata": {},
   "outputs": [],
   "source": []
  }
 ],
 "metadata": {
  "kernelspec": {
   "display_name": "Python 3 (ipykernel)",
   "language": "python",
   "name": "python3"
  },
  "language_info": {
   "codemirror_mode": {
    "name": "ipython",
    "version": 3
   },
   "file_extension": ".py",
   "mimetype": "text/x-python",
   "name": "python",
   "nbconvert_exporter": "python",
   "pygments_lexer": "ipython3",
   "version": "3.7.11"
  }
 },
 "nbformat": 4,
 "nbformat_minor": 5
}
